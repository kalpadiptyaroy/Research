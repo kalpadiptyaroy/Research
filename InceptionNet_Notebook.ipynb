{
 "cells": [
  {
   "cell_type": "code",
   "execution_count": 61,
   "metadata": {},
   "outputs": [
    {
     "output_type": "stream",
     "name": "stdout",
     "text": [
      "Using PyTorch version 1.7.0+cpu\n"
     ]
    }
   ],
   "source": [
    "%matplotlib inline\n",
    "\n",
    "import os\n",
    "import shutil\n",
    "import random\n",
    "import torch\n",
    "import torchvision\n",
    "import numpy as np\n",
    "\n",
    "from PIL import Image\n",
    "from matplotlib import pyplot as plt\n",
    "from IPython.display import clear_output\n",
    "\n",
    "torch.manual_seed(0)\n",
    "\n",
    "print('Using PyTorch version', torch.__version__)"
   ]
  },
  {
   "cell_type": "markdown",
   "metadata": {},
   "source": [
    "# Preparing Training and Test Sets"
   ]
  },
  {
   "cell_type": "code",
   "execution_count": 2,
   "metadata": {},
   "outputs": [],
   "source": [
    "class_names = ['Covid', 'Non-covid']  # we have two classes covid and non-covid\n",
    "root_dir = 'archive1\\COVID-19 Dataset\\CT'\n",
    "source_dirs = ['Covid', 'Non-Covid']  # these are dirs where the labels images are stored. Names are co-incidentally same with that of class names.\n",
    "\n",
    "if os.path.isdir(os.path.join(root_dir, source_dirs[1])):\n",
    "    os.mkdir(os.path.join(root_dir, 'test'))\n",
    "\n",
    "    for i, d in enumerate(source_dirs):\n",
    "        os.rename(os.path.join(root_dir, d), os.path.join(root_dir, class_names[i]))\n",
    "\n",
    "    for c in class_names:\n",
    "        os.mkdir(os.path.join(root_dir, 'test', c))\n",
    "\n",
    "    for c in class_names:\n",
    "        images = [x for x in os.listdir(os.path.join(root_dir, c)) if (x[-3:].lower().endswith('png') or x[-3:].lower().endswith('jpg') or x[-4:].lower().endswith('jpeg'))]\n",
    "        selected_images = random.sample(images, 60)\n",
    "        for image in selected_images:\n",
    "            source_path = os.path.join(root_dir, c, image)\n",
    "            target_path = os.path.join(root_dir, 'test', c, image)\n",
    "            shutil.move(source_path, target_path)"
   ]
  },
  {
   "cell_type": "markdown",
   "metadata": {},
   "source": [
    "# Creating Custom Dataset"
   ]
  },
  {
   "cell_type": "code",
   "execution_count": 62,
   "metadata": {},
   "outputs": [],
   "source": [
    "class ChestXRayDataset(torch.utils.data.Dataset):\n",
    "    def __init__(self, image_dirs, transform):\n",
    "        def get_images(class_name):\n",
    "            images = [x for x in os.listdir(image_dirs[class_name]) if (x[-3:].lower().endswith('png') or x[-3:].lower().endswith('jpg') or x[-4:].lower().endswith('jpeg')) ] \n",
    "            print(f'Found {len(images)} {class_name} examples')    \n",
    "            return images\n",
    "        \n",
    "        self.images = {}\n",
    "        self.class_names = ['Covid', 'Non-Covid']\n",
    "        \n",
    "        for c in self.class_names:\n",
    "            self.images[c] = get_images(c)\n",
    "            \n",
    "        self.image_dirs = image_dirs\n",
    "        self.transform = transform\n",
    "        \n",
    "    def __len__(self):\n",
    "        return sum([len(self.images[c]) for c in self.class_names])\n",
    "    \n",
    "    def __getitem__(self, index):\n",
    "        class_name = random.choice(self.class_names)\n",
    "        index = index % len(self.images[class_name])\n",
    "        image_name = self.images[class_name][index]\n",
    "        image_path = os.path.join(self.image_dirs[class_name], image_name)\n",
    "        image = Image.open(image_path).convert('RGB')\n",
    "        return self.transform(image), self.class_names.index(class_name)"
   ]
  },
  {
   "cell_type": "markdown",
   "metadata": {},
   "source": [
    "# Image Transformations"
   ]
  },
  {
   "cell_type": "code",
   "execution_count": 63,
   "metadata": {},
   "outputs": [],
   "source": [
    "train_transform = torchvision.transforms.Compose([\n",
    "    torchvision.transforms.Resize(size=(299,299)),\n",
    "    torchvision.transforms.RandomHorizontalFlip(),\n",
    "    torchvision.transforms.ToTensor(),\n",
    "    torchvision.transforms.Normalize(mean = [0.485, 0.456, 0.406], std = [0.229, 0.224, 0.225])\n",
    "])\n",
    "\n",
    "test_transform = torchvision.transforms.Compose([\n",
    "    torchvision.transforms.Resize(size=(299, 299)),\n",
    "    torchvision.transforms.ToTensor(),\n",
    "    torchvision.transforms.Normalize(mean = [0.485, 0.456, 0.406], std = [0.229, 0.224, 0.225])\n",
    "])"
   ]
  },
  {
   "cell_type": "markdown",
   "metadata": {},
   "source": [
    "# Prepare DataLoader"
   ]
  },
  {
   "cell_type": "code",
   "execution_count": 64,
   "metadata": {},
   "outputs": [
    {
     "output_type": "stream",
     "name": "stdout",
     "text": [
      "Found 9339 Covid examples\nFound 8000 Non-Covid examples\n"
     ]
    }
   ],
   "source": [
    "train_dirs = {\n",
    "    'Covid': 'archive1/COVID-19 Dataset/Mixed/Covid',\n",
    "    'Non-Covid' : 'archive1/COVID-19 Dataset/Mixed/Non-covid'\n",
    "}\n",
    "\n",
    "train_dataset = ChestXRayDataset(train_dirs, train_transform)"
   ]
  },
  {
   "cell_type": "code",
   "execution_count": 65,
   "metadata": {},
   "outputs": [
    {
     "output_type": "stream",
     "name": "stdout",
     "text": [
      "Found 60 Covid examples\nFound 60 Non-Covid examples\n"
     ]
    }
   ],
   "source": [
    "test_dirs = {\n",
    "    'Covid': 'archive1/COVID-19 Dataset/Mixed/test/Covid',\n",
    "    'Non-Covid' : 'archive1/COVID-19 Dataset/Mixed/test/Non-Covid'\n",
    "}\n",
    "\n",
    "test_dataset = ChestXRayDataset(test_dirs, test_transform)"
   ]
  },
  {
   "cell_type": "code",
   "execution_count": 67,
   "metadata": {},
   "outputs": [
    {
     "output_type": "stream",
     "name": "stdout",
     "text": [
      "Number of Training batches 1734\nNumber of test batches 12\n"
     ]
    }
   ],
   "source": [
    "batch_size = 10\n",
    "\n",
    "dl_train = torch.utils.data.DataLoader(train_dataset, batch_size = batch_size, shuffle = True)\n",
    "\n",
    "dl_test = torch.utils.data.DataLoader(test_dataset, batch_size = batch_size, shuffle = True)\n",
    "\n",
    "print('Number of Training batches', len(dl_train))\n",
    "print('Number of test batches', len(dl_test))"
   ]
  },
  {
   "cell_type": "markdown",
   "metadata": {},
   "source": [
    "# Data Visualization"
   ]
  },
  {
   "cell_type": "code",
   "execution_count": 68,
   "metadata": {},
   "outputs": [],
   "source": [
    "class_names = train_dataset.class_names\n",
    "\n",
    "def show_images(images, labels, preds):\n",
    "    plt.figure(figsize=(10, 4))\n",
    "    for i, image in enumerate(images):\n",
    "        plt.subplot(1, 6, i + 1, xticks=[], yticks=[])\n",
    "        image = image.numpy().transpose((1, 2, 0))\n",
    "        mean = np.array([0.485, 0.456, 0.406])\n",
    "        std = np.array([0.229, 0.224, 0.225])\n",
    "        image = image * std + mean\n",
    "        image = np.clip(image, 0., 1.)\n",
    "        plt.imshow(image)\n",
    "        col = 'green' \n",
    "        if preds[i] != labels[i]:\n",
    "            col = 'red'\n",
    "        plt.xlabel(f'{class_names[int(labels[i].numpy())]}')\n",
    "        plt.ylabel(f'{class_names[int(preds[i].numpy())]}', color=col)\n",
    "    plt.tight_layout()\n",
    "    plt.show()"
   ]
  },
  {
   "cell_type": "code",
   "execution_count": 8,
   "metadata": {},
   "outputs": [
    {
     "output_type": "error",
     "ename": "NameError",
     "evalue": "name 'show_images' is not defined",
     "traceback": [
      "\u001b[1;31m---------------------------------------------------------------------------\u001b[0m",
      "\u001b[1;31mNameError\u001b[0m                                 Traceback (most recent call last)",
      "\u001b[1;32m<ipython-input-8-0c45e50d7921>\u001b[0m in \u001b[0;36m<module>\u001b[1;34m\u001b[0m\n\u001b[0;32m      1\u001b[0m \u001b[0mimages\u001b[0m\u001b[1;33m,\u001b[0m \u001b[0mlabels\u001b[0m \u001b[1;33m=\u001b[0m \u001b[0mnext\u001b[0m\u001b[1;33m(\u001b[0m\u001b[0miter\u001b[0m\u001b[1;33m(\u001b[0m\u001b[0mdl_train\u001b[0m\u001b[1;33m)\u001b[0m\u001b[1;33m)\u001b[0m\u001b[1;33m\u001b[0m\u001b[1;33m\u001b[0m\u001b[0m\n\u001b[1;32m----> 2\u001b[1;33m \u001b[0mshow_images\u001b[0m\u001b[1;33m(\u001b[0m\u001b[0mimages\u001b[0m\u001b[1;33m,\u001b[0m \u001b[0mlabels\u001b[0m\u001b[1;33m,\u001b[0m \u001b[0mlabels\u001b[0m\u001b[1;33m)\u001b[0m\u001b[1;33m\u001b[0m\u001b[1;33m\u001b[0m\u001b[0m\n\u001b[0m",
      "\u001b[1;31mNameError\u001b[0m: name 'show_images' is not defined"
     ]
    }
   ],
   "source": [
    "images, labels = next(iter(dl_train))\n",
    "show_images(images, labels, labels)"
   ]
  },
  {
   "cell_type": "code",
   "execution_count": null,
   "metadata": {},
   "outputs": [],
   "source": [
    "images, labels = next(iter(dl_test))\n",
    "show_images(images, labels, labels)"
   ]
  },
  {
   "cell_type": "markdown",
   "metadata": {},
   "source": [
    "# Creating the Model"
   ]
  },
  {
   "cell_type": "code",
   "execution_count": 69,
   "metadata": {},
   "outputs": [],
   "source": [
    "inceptionnet = torchvision.models.inception_v3(pretrained=True, progress=True, aux_logits=False)"
   ]
  },
  {
   "cell_type": "code",
   "execution_count": 70,
   "metadata": {},
   "outputs": [],
   "source": [
    "inceptionnet.fc = torch.nn.Linear(in_features=2048, out_features=2)\n",
    "loss_fn = torch.nn.CrossEntropyLoss()\n",
    "optimizer = torch.optim.Adam(inceptionnet.parameters(), lr=3e-5)\n",
    "\n",
    "#for params in inceptionnet.parameters():\n",
    " #   params.requires_grad = True"
   ]
  },
  {
   "cell_type": "code",
   "execution_count": 71,
   "metadata": {},
   "outputs": [],
   "source": [
    "def show_preds():\n",
    "    resnet18.eval() #We set the resnet18 model to evaluation mode.\n",
    "    images, labels = next(iter(dl_test))\n",
    "    outputs = resnet18(images)\n",
    "    _, preds = torch.max(outputs, 1)\n",
    "    show_images(images, labels, preds)"
   ]
  },
  {
   "cell_type": "code",
   "execution_count": null,
   "metadata": {},
   "outputs": [],
   "source": [
    "show_preds"
   ]
  },
  {
   "source": [
    "# Checkpoints to Save the Model"
   ],
   "cell_type": "markdown",
   "metadata": {}
  },
  {
   "cell_type": "code",
   "execution_count": 72,
   "metadata": {},
   "outputs": [],
   "source": [
    "def save_checkpoint(model, optimizer, epoch, accuracy_yaxis, val_loss_yaxis, steps_xaxis):\n",
    "    checkpoint = {\n",
    "        'model_state_dict': model.state_dict(),\n",
    "        'optimizer_state_dict': optimizer.state_dict(),\n",
    "        'epoch': epoch,\n",
    "        'accuracy': accuracy_yaxis,\n",
    "        'val_loss' : val_loss_yaxis,\n",
    "        'steps_xaxis': steps_xaxis\n",
    "    }\n",
    "    print(f'Progress Saved till epoch = {epoch}')\n",
    "    torch.save(checkpoint, 'E:\\\\Image Recognition\\\\covid-chestxray-dataset\\\\Inceptionnet_checkpoint.pth')"
   ]
  },
  {
   "source": [
    "# Loading saved checkpoints"
   ],
   "cell_type": "markdown",
   "metadata": {}
  },
  {
   "cell_type": "code",
   "execution_count": 73,
   "metadata": {},
   "outputs": [],
   "source": [
    "def load_checkpoint(model, optimizer):\n",
    "    saved_checkpoint = torch.load('E:\\\\Image Recognition\\\\covid-chestxray-dataset\\\\Inceptionnet_checkpoint.pth')\n",
    "    model.load_state_dict(saved_checkpoint['model_state_dict'])\n",
    "    optimizer.load_state_dict(saved_checkpoint['optimizer_state_dict'])\n",
    "    epoch = saved_checkpoint['epoch']\n",
    "    accuracy_yaxis = saved_checkpoint['accuracy']\n",
    "    val_loss_yaxis = saved_checkpoint['val_loss']\n",
    "    steps_xaxis = saved_checkpoint['steps_xaxis']\n",
    "    return epoch, accuracy_yaxis, val_loss_yaxis, steps_xaxis"
   ]
  },
  {
   "cell_type": "markdown",
   "metadata": {},
   "source": [
    "# Training the Model"
   ]
  },
  {
   "cell_type": "code",
   "execution_count": 74,
   "metadata": {},
   "outputs": [],
   "source": [
    "def train(epochs, resume_from_checkpoint = False):\n",
    "    accuracy_yaxis = []\n",
    "    val_loss_yaxis = []\n",
    "    train_loss_yaxis = []\n",
    "    val_accuracy_yaxis = []\n",
    "    steps_xaxis = []\n",
    "\n",
    "    if resume_from_checkpoint == True:\n",
    "        starting_epoch, accuracy_yaxis, val_loss_yaxis, steps_xaxis = load_checkpoint(inceptionnet, optimizer)\n",
    "        print('Starting Epoch = ', starting_epoch)\n",
    "        print('Resumed from Last Saved Checkpoint')\n",
    "    else:\n",
    "        starting_epoch = 0\n",
    "\n",
    "    print('Starting Training ...')\n",
    "    for e in range(starting_epoch, starting_epoch + epochs):\n",
    "        print('_'*20)\n",
    "        print(f'Starting epoch {e + 1} / {starting_epoch + epochs}')\n",
    "        print('_'*20)\n",
    "\n",
    "        train_loss, val_loss = 0, 0\n",
    "\n",
    "        inceptionnet.train() #we put the resnet model to train mode.\n",
    "\n",
    "        for train_step, (images, labels) in enumerate(dl_train):\n",
    "            optimizer.zero_grad() #Before training our gradient is always zero.\n",
    "            outputs = inceptionnet(images)\n",
    "            loss = loss_fn(outputs, labels)\n",
    "            loss.backward()\n",
    "            optimizer.step()\n",
    "            train_loss += loss.item()\n",
    "\n",
    "            if train_step % 20 == 0:\n",
    "                print('Evaluating at step', train_step)\n",
    "                accuracy = 0\n",
    "                inceptionnet.eval() #We put the resnet18 model to evaluation mode.\n",
    "                train_loss /= (train_step + 1)\n",
    "                train_loss_yaxis.append(train_loss)\n",
    "                \n",
    "\n",
    "                for val_step, (images, labels) in enumerate(dl_test):\n",
    "                    outputs = inceptionnet(images)\n",
    "                    loss = loss_fn(outputs, labels)\n",
    "                    val_loss += loss.item()\n",
    "\n",
    "                    _, preds = torch.max(outputs, 1)\n",
    "                    accuracy += sum((preds == labels).numpy()) #vector form or array form example [0, 1, 1, ....., 0, 1]\n",
    "                    \n",
    "                val_accuracy_yaxis.append(accuracy)\n",
    "                val_loss /= (val_step + 1)\n",
    "                accuracy = accuracy / len(test_dataset)\n",
    "                print(f'Validation Loss: {val_loss:.4f}, Accuracy:{accuracy:.4f}')\n",
    "\n",
    "                accuracy_yaxis.append(accuracy)\n",
    "                val_loss_yaxis.append(val_loss)\n",
    "                steps_xaxis.append(((len(dl_train) - 1) * e) + train_step)\n",
    "                #show_preds()\n",
    "                inceptionnet.train()\n",
    "\n",
    "                if accuracy >= 0.99:\n",
    "                    print('Performance Condition Satisfied, Stopping ...')\n",
    "                    save_checkpoint(inceptionnet, optimizer, e + 1, accuracy_yaxis, val_loss_yaxis, steps_xaxis)\n",
    "                    return (accuracy_yaxis, val_loss_yaxis, train_loss_yaxis, val_accuracy_yaxis, steps_xaxis)\n",
    "\n",
    "        train_loss /= (train_step + 1)\n",
    "        #train_loss_yaxis.append(train_loss)\n",
    "\n",
    "        print(f'Training Loss: {train_loss:.4f}')\n",
    "\n",
    "        if (e + 1) % 2 == 0:\n",
    "            save_checkpoint(inceptionnet, optimizer, e + 1, accuracy_yaxis, val_loss_yaxis, steps_xaxis)\n",
    "    \n",
    "    print('Training Complete ....')\n",
    "    return (accuracy_yaxis, val_loss_yaxis, train_loss_yaxis, val_accuracy_yaxis, steps_xaxis)\n"
   ]
  },
  {
   "cell_type": "code",
   "execution_count": 75,
   "metadata": {},
   "outputs": [
    {
     "output_type": "stream",
     "name": "stdout",
     "text": [
      "Starting Training ...\n",
      "____________________\n",
      "Starting epoch 1 / 2\n",
      "____________________\n",
      "Evaluating at step 0\n",
      "Validation Loss: 0.6838, Accuracy:0.5750\n",
      "Evaluating at step 20\n",
      "Validation Loss: 0.6287, Accuracy:0.7250\n",
      "Evaluating at step 40\n",
      "Validation Loss: 0.5442, Accuracy:0.8167\n",
      "Evaluating at step 60\n",
      "Validation Loss: 0.4629, Accuracy:0.8583\n",
      "Evaluating at step 80\n",
      "Validation Loss: 0.5199, Accuracy:0.7750\n",
      "Evaluating at step 100\n",
      "Validation Loss: 0.3701, Accuracy:0.8750\n",
      "Evaluating at step 120\n",
      "Validation Loss: 0.3626, Accuracy:0.8750\n",
      "Evaluating at step 140\n",
      "Validation Loss: 0.3874, Accuracy:0.8167\n",
      "Evaluating at step 160\n",
      "Validation Loss: 0.3322, Accuracy:0.8667\n",
      "Evaluating at step 180\n",
      "Validation Loss: 0.3243, Accuracy:0.8583\n",
      "Evaluating at step 200\n",
      "Validation Loss: 0.3094, Accuracy:0.8583\n",
      "Evaluating at step 220\n",
      "Validation Loss: 0.3325, Accuracy:0.8583\n",
      "Evaluating at step 240\n",
      "Validation Loss: 0.4437, Accuracy:0.8333\n",
      "Evaluating at step 260\n",
      "Validation Loss: 0.3017, Accuracy:0.8917\n",
      "Evaluating at step 280\n",
      "Validation Loss: 0.3042, Accuracy:0.8833\n",
      "Evaluating at step 300\n",
      "Validation Loss: 0.2391, Accuracy:0.9000\n",
      "Evaluating at step 320\n",
      "Validation Loss: 0.2070, Accuracy:0.9167\n",
      "Evaluating at step 340\n",
      "Validation Loss: 0.3016, Accuracy:0.8667\n",
      "Evaluating at step 360\n",
      "Validation Loss: 0.2561, Accuracy:0.9000\n",
      "Evaluating at step 380\n",
      "Validation Loss: 0.2707, Accuracy:0.8667\n",
      "Evaluating at step 400\n",
      "Validation Loss: 0.2715, Accuracy:0.8750\n",
      "Evaluating at step 420\n",
      "Validation Loss: 0.2355, Accuracy:0.9083\n",
      "Evaluating at step 440\n",
      "Validation Loss: 0.2818, Accuracy:0.8750\n",
      "Evaluating at step 460\n",
      "Validation Loss: 0.2519, Accuracy:0.8583\n",
      "Evaluating at step 480\n",
      "Validation Loss: 0.1595, Accuracy:0.9833\n",
      "Evaluating at step 500\n",
      "Validation Loss: 0.2400, Accuracy:0.9083\n",
      "Evaluating at step 520\n",
      "Validation Loss: 0.1913, Accuracy:0.9417\n",
      "Evaluating at step 540\n",
      "Validation Loss: 0.3094, Accuracy:0.8833\n",
      "Evaluating at step 560\n",
      "Validation Loss: 0.3737, Accuracy:0.8417\n",
      "Evaluating at step 580\n",
      "Validation Loss: 0.2823, Accuracy:0.8667\n",
      "Evaluating at step 600\n",
      "Validation Loss: 0.2465, Accuracy:0.9333\n",
      "Evaluating at step 620\n",
      "Validation Loss: 0.2257, Accuracy:0.9333\n",
      "Evaluating at step 640\n",
      "Validation Loss: 0.2086, Accuracy:0.9417\n",
      "Evaluating at step 660\n",
      "Validation Loss: 0.2454, Accuracy:0.8917\n",
      "Evaluating at step 680\n",
      "Validation Loss: 0.1990, Accuracy:0.9000\n",
      "Evaluating at step 700\n",
      "Validation Loss: 0.2202, Accuracy:0.9417\n",
      "Evaluating at step 720\n",
      "Validation Loss: 0.2724, Accuracy:0.9417\n",
      "Evaluating at step 740\n",
      "Validation Loss: 0.2864, Accuracy:0.9333\n",
      "Evaluating at step 760\n",
      "Validation Loss: 0.2667, Accuracy:0.9417\n",
      "Evaluating at step 780\n",
      "Validation Loss: 0.1917, Accuracy:0.9500\n",
      "Evaluating at step 800\n",
      "Validation Loss: 0.1113, Accuracy:0.9667\n",
      "Evaluating at step 820\n",
      "Validation Loss: 0.1221, Accuracy:0.9833\n",
      "Evaluating at step 840\n",
      "Validation Loss: 0.2886, Accuracy:0.9500\n",
      "Evaluating at step 860\n",
      "Validation Loss: 0.2158, Accuracy:0.9667\n",
      "Evaluating at step 880\n",
      "Validation Loss: 0.2226, Accuracy:0.9333\n",
      "Evaluating at step 900\n",
      "Validation Loss: 0.2651, Accuracy:0.9583\n",
      "Evaluating at step 920\n",
      "Validation Loss: 0.2193, Accuracy:0.9333\n",
      "Evaluating at step 940\n",
      "Validation Loss: 0.1810, Accuracy:0.9500\n",
      "Evaluating at step 960\n",
      "Validation Loss: 0.2437, Accuracy:0.9250\n",
      "Evaluating at step 980\n",
      "Validation Loss: 0.2275, Accuracy:0.9583\n",
      "Evaluating at step 1000\n",
      "Validation Loss: 0.1954, Accuracy:0.9583\n",
      "Evaluating at step 1020\n",
      "Validation Loss: 0.2308, Accuracy:0.9667\n",
      "Evaluating at step 1040\n",
      "Validation Loss: 0.2426, Accuracy:0.9250\n",
      "Evaluating at step 1060\n",
      "Validation Loss: 0.3041, Accuracy:0.9167\n",
      "Evaluating at step 1080\n",
      "Validation Loss: 0.2281, Accuracy:0.9333\n",
      "Evaluating at step 1100\n",
      "Validation Loss: 0.2077, Accuracy:0.9500\n",
      "Evaluating at step 1120\n",
      "Validation Loss: 0.3437, Accuracy:0.9500\n",
      "Evaluating at step 1140\n",
      "Validation Loss: 0.1369, Accuracy:0.9833\n",
      "Evaluating at step 1160\n",
      "Validation Loss: 0.1884, Accuracy:0.9583\n",
      "Evaluating at step 1180\n",
      "Validation Loss: 0.2316, Accuracy:0.9583\n",
      "Evaluating at step 1200\n",
      "Validation Loss: 0.3986, Accuracy:0.8667\n",
      "Evaluating at step 1220\n",
      "Validation Loss: 0.3060, Accuracy:0.8917\n",
      "Evaluating at step 1240\n",
      "Validation Loss: 0.3252, Accuracy:0.8833\n",
      "Evaluating at step 1260\n",
      "Validation Loss: 0.2167, Accuracy:0.9083\n",
      "Evaluating at step 1280\n",
      "Validation Loss: 0.2259, Accuracy:0.9417\n",
      "Evaluating at step 1300\n",
      "Validation Loss: 0.2051, Accuracy:0.9167\n",
      "Evaluating at step 1320\n",
      "Validation Loss: 0.1431, Accuracy:0.9500\n",
      "Evaluating at step 1340\n",
      "Validation Loss: 0.2740, Accuracy:0.8833\n",
      "Evaluating at step 1360\n",
      "Validation Loss: 0.1861, Accuracy:0.9500\n",
      "Evaluating at step 1380\n",
      "Validation Loss: 0.1859, Accuracy:0.9417\n",
      "Evaluating at step 1400\n",
      "Validation Loss: 0.2313, Accuracy:0.9000\n",
      "Evaluating at step 1420\n",
      "Validation Loss: 0.2482, Accuracy:0.9167\n",
      "Evaluating at step 1440\n",
      "Validation Loss: 0.1528, Accuracy:0.9583\n",
      "Evaluating at step 1460\n",
      "Validation Loss: 0.2664, Accuracy:0.9083\n",
      "Evaluating at step 1480\n",
      "Validation Loss: 0.1679, Accuracy:0.9750\n",
      "Evaluating at step 1500\n",
      "Validation Loss: 0.1885, Accuracy:0.9417\n",
      "Evaluating at step 1520\n",
      "Validation Loss: 0.1420, Accuracy:0.9667\n",
      "Evaluating at step 1540\n",
      "Validation Loss: 0.1007, Accuracy:0.9750\n",
      "Evaluating at step 1560\n",
      "Validation Loss: 0.1123, Accuracy:0.9583\n",
      "Evaluating at step 1580\n",
      "Validation Loss: 0.1602, Accuracy:0.9667\n",
      "Evaluating at step 1600\n",
      "Validation Loss: 0.1996, Accuracy:0.9583\n",
      "Evaluating at step 1620\n",
      "Validation Loss: 0.1870, Accuracy:0.9667\n",
      "Evaluating at step 1640\n",
      "Validation Loss: 0.1761, Accuracy:0.9000\n",
      "Evaluating at step 1660\n",
      "Validation Loss: 0.1179, Accuracy:0.9833\n",
      "Evaluating at step 1680\n",
      "Validation Loss: 0.2025, Accuracy:0.9250\n",
      "Evaluating at step 1700\n",
      "Validation Loss: 0.1366, Accuracy:0.9500\n",
      "Evaluating at step 1720\n",
      "Validation Loss: 0.1179, Accuracy:0.9750\n",
      "Training Loss: 0.0010\n",
      "____________________\n",
      "Starting epoch 2 / 2\n",
      "____________________\n",
      "Evaluating at step 0\n",
      "Validation Loss: 0.1030, Accuracy:0.9667\n",
      "Evaluating at step 20\n",
      "Validation Loss: 0.1695, Accuracy:0.9583\n",
      "Evaluating at step 40\n",
      "Validation Loss: 0.1295, Accuracy:0.9750\n",
      "Evaluating at step 60\n",
      "Validation Loss: 0.0948, Accuracy:0.9667\n",
      "Evaluating at step 80\n",
      "Validation Loss: 0.1253, Accuracy:0.9750\n",
      "Evaluating at step 100\n",
      "Validation Loss: 0.0999, Accuracy:0.9750\n",
      "Evaluating at step 120\n",
      "Validation Loss: 0.1077, Accuracy:0.9750\n",
      "Evaluating at step 140\n",
      "Validation Loss: 0.1102, Accuracy:0.9500\n",
      "Evaluating at step 160\n",
      "Validation Loss: 0.1700, Accuracy:0.9583\n",
      "Evaluating at step 180\n",
      "Validation Loss: 0.1067, Accuracy:0.9750\n",
      "Evaluating at step 200\n",
      "Validation Loss: 0.1351, Accuracy:0.9667\n",
      "Evaluating at step 220\n",
      "Validation Loss: 0.0958, Accuracy:0.9833\n",
      "Evaluating at step 240\n",
      "Validation Loss: 0.1144, Accuracy:0.9583\n",
      "Evaluating at step 260\n",
      "Validation Loss: 0.0850, Accuracy:0.9917\n",
      "Performance Condition Satisfied, Stopping ...\n",
      "Progress Saved till epoch = 2\n",
      "Wall time: 6h 15min 27s\n"
     ]
    }
   ],
   "source": [
    "%%time\n",
    "accuracy_yaxis, val_loss_yaxis, train_loss_yaxis, val_accuracy_yaxis, steps_xaxis = train(epochs = 2)"
   ]
  },
  {
   "cell_type": "markdown",
   "metadata": {},
   "source": [
    "# Final Results"
   ]
  },
  {
   "cell_type": "code",
   "execution_count": null,
   "metadata": {},
   "outputs": [],
   "source": [
    "show_preds()"
   ]
  },
  {
   "source": [
    "# Plotting the Results"
   ],
   "cell_type": "markdown",
   "metadata": {}
  },
  {
   "cell_type": "code",
   "execution_count": 76,
   "metadata": {},
   "outputs": [
    {
     "output_type": "execute_result",
     "data": {
      "text/plain": [
       "Text(0.5, 1.0, '(Train Loss , Train Accuracy) VS Train Step - InceptionNetV3')"
      ]
     },
     "metadata": {},
     "execution_count": 76
    },
    {
     "output_type": "display_data",
     "data": {
      "text/plain": "<Figure size 432x288 with 1 Axes>",
      "image/svg+xml": "<?xml version=\"1.0\" encoding=\"utf-8\" standalone=\"no\"?>\r\n<!DOCTYPE svg PUBLIC \"-//W3C//DTD SVG 1.1//EN\"\r\n  \"http://www.w3.org/Graphics/SVG/1.1/DTD/svg11.dtd\">\r\n<!-- Created with matplotlib (https://matplotlib.org/) -->\r\n<svg height=\"265.459875pt\" version=\"1.1\" viewBox=\"0 0 447.27975 265.459875\" width=\"447.27975pt\" xmlns=\"http://www.w3.org/2000/svg\" xmlns:xlink=\"http://www.w3.org/1999/xlink\">\r\n <defs>\r\n  <style type=\"text/css\">\r\n*{stroke-linecap:butt;stroke-linejoin:round;}\r\n  </style>\r\n </defs>\r\n <g id=\"figure_1\">\r\n  <g id=\"patch_1\">\r\n   <path d=\"M 0 265.459875 \r\nL 447.27975 265.459875 \r\nL 447.27975 0 \r\nL 0 0 \r\nz\r\n\" style=\"fill:#ffffff;\"/>\r\n  </g>\r\n  <g id=\"axes_1\">\r\n   <g id=\"patch_2\">\r\n    <path d=\"M 56.239875 241.58175 \r\nL 391.039875 241.58175 \r\nL 391.039875 24.14175 \r\nL 56.239875 24.14175 \r\nz\r\n\" style=\"fill:#e5e5e5;\"/>\r\n   </g>\r\n   <g id=\"matplotlib.axis_1\">\r\n    <g id=\"xtick_1\">\r\n     <g id=\"line2d_1\">\r\n      <path clip-path=\"url(#pb125df28aa)\" d=\"M 71.458057 241.58175 \r\nL 71.458057 24.14175 \r\n\" style=\"fill:none;stroke:#ffffff;stroke-linecap:square;stroke-width:0.8;\"/>\r\n     </g>\r\n     <g id=\"line2d_2\">\r\n      <defs>\r\n       <path d=\"M 0 0 \r\nL 0 3.5 \r\n\" id=\"m648f1922e7\" style=\"stroke:#555555;stroke-width:0.8;\"/>\r\n      </defs>\r\n      <g>\r\n       <use style=\"fill:#555555;stroke:#555555;stroke-width:0.8;\" x=\"71.458057\" xlink:href=\"#m648f1922e7\" y=\"241.58175\"/>\r\n      </g>\r\n     </g>\r\n     <g id=\"text_1\">\r\n      <!-- 0 -->\r\n      <defs>\r\n       <path d=\"M 31.78125 66.40625 \r\nQ 24.171875 66.40625 20.328125 58.90625 \r\nQ 16.5 51.421875 16.5 36.375 \r\nQ 16.5 21.390625 20.328125 13.890625 \r\nQ 24.171875 6.390625 31.78125 6.390625 \r\nQ 39.453125 6.390625 43.28125 13.890625 \r\nQ 47.125 21.390625 47.125 36.375 \r\nQ 47.125 51.421875 43.28125 58.90625 \r\nQ 39.453125 66.40625 31.78125 66.40625 \r\nz\r\nM 31.78125 74.21875 \r\nQ 44.046875 74.21875 50.515625 64.515625 \r\nQ 56.984375 54.828125 56.984375 36.375 \r\nQ 56.984375 17.96875 50.515625 8.265625 \r\nQ 44.046875 -1.421875 31.78125 -1.421875 \r\nQ 19.53125 -1.421875 13.0625 8.265625 \r\nQ 6.59375 17.96875 6.59375 36.375 \r\nQ 6.59375 54.828125 13.0625 64.515625 \r\nQ 19.53125 74.21875 31.78125 74.21875 \r\nz\r\n\" id=\"DejaVuSans-48\"/>\r\n      </defs>\r\n      <g style=\"fill:#555555;\" transform=\"translate(68.276807 256.180187)scale(0.1 -0.1)\">\r\n       <use xlink:href=\"#DejaVuSans-48\"/>\r\n      </g>\r\n     </g>\r\n    </g>\r\n    <g id=\"xtick_2\">\r\n     <g id=\"line2d_3\">\r\n      <path clip-path=\"url(#pb125df28aa)\" d=\"M 109.637138 241.58175 \r\nL 109.637138 24.14175 \r\n\" style=\"fill:none;stroke:#ffffff;stroke-linecap:square;stroke-width:0.8;\"/>\r\n     </g>\r\n     <g id=\"line2d_4\">\r\n      <g>\r\n       <use style=\"fill:#555555;stroke:#555555;stroke-width:0.8;\" x=\"109.637138\" xlink:href=\"#m648f1922e7\" y=\"241.58175\"/>\r\n      </g>\r\n     </g>\r\n     <g id=\"text_2\">\r\n      <!-- 250 -->\r\n      <defs>\r\n       <path d=\"M 19.1875 8.296875 \r\nL 53.609375 8.296875 \r\nL 53.609375 0 \r\nL 7.328125 0 \r\nL 7.328125 8.296875 \r\nQ 12.9375 14.109375 22.625 23.890625 \r\nQ 32.328125 33.6875 34.8125 36.53125 \r\nQ 39.546875 41.84375 41.421875 45.53125 \r\nQ 43.3125 49.21875 43.3125 52.78125 \r\nQ 43.3125 58.59375 39.234375 62.25 \r\nQ 35.15625 65.921875 28.609375 65.921875 \r\nQ 23.96875 65.921875 18.8125 64.3125 \r\nQ 13.671875 62.703125 7.8125 59.421875 \r\nL 7.8125 69.390625 \r\nQ 13.765625 71.78125 18.9375 73 \r\nQ 24.125 74.21875 28.421875 74.21875 \r\nQ 39.75 74.21875 46.484375 68.546875 \r\nQ 53.21875 62.890625 53.21875 53.421875 \r\nQ 53.21875 48.921875 51.53125 44.890625 \r\nQ 49.859375 40.875 45.40625 35.40625 \r\nQ 44.1875 33.984375 37.640625 27.21875 \r\nQ 31.109375 20.453125 19.1875 8.296875 \r\nz\r\n\" id=\"DejaVuSans-50\"/>\r\n       <path d=\"M 10.796875 72.90625 \r\nL 49.515625 72.90625 \r\nL 49.515625 64.59375 \r\nL 19.828125 64.59375 \r\nL 19.828125 46.734375 \r\nQ 21.96875 47.46875 24.109375 47.828125 \r\nQ 26.265625 48.1875 28.421875 48.1875 \r\nQ 40.625 48.1875 47.75 41.5 \r\nQ 54.890625 34.8125 54.890625 23.390625 \r\nQ 54.890625 11.625 47.5625 5.09375 \r\nQ 40.234375 -1.421875 26.90625 -1.421875 \r\nQ 22.3125 -1.421875 17.546875 -0.640625 \r\nQ 12.796875 0.140625 7.71875 1.703125 \r\nL 7.71875 11.625 \r\nQ 12.109375 9.234375 16.796875 8.0625 \r\nQ 21.484375 6.890625 26.703125 6.890625 \r\nQ 35.15625 6.890625 40.078125 11.328125 \r\nQ 45.015625 15.765625 45.015625 23.390625 \r\nQ 45.015625 31 40.078125 35.4375 \r\nQ 35.15625 39.890625 26.703125 39.890625 \r\nQ 22.75 39.890625 18.8125 39.015625 \r\nQ 14.890625 38.140625 10.796875 36.28125 \r\nz\r\n\" id=\"DejaVuSans-53\"/>\r\n      </defs>\r\n      <g style=\"fill:#555555;\" transform=\"translate(100.093388 256.180187)scale(0.1 -0.1)\">\r\n       <use xlink:href=\"#DejaVuSans-50\"/>\r\n       <use x=\"63.623047\" xlink:href=\"#DejaVuSans-53\"/>\r\n       <use x=\"127.246094\" xlink:href=\"#DejaVuSans-48\"/>\r\n      </g>\r\n     </g>\r\n    </g>\r\n    <g id=\"xtick_3\">\r\n     <g id=\"line2d_5\">\r\n      <path clip-path=\"url(#pb125df28aa)\" d=\"M 147.816219 241.58175 \r\nL 147.816219 24.14175 \r\n\" style=\"fill:none;stroke:#ffffff;stroke-linecap:square;stroke-width:0.8;\"/>\r\n     </g>\r\n     <g id=\"line2d_6\">\r\n      <g>\r\n       <use style=\"fill:#555555;stroke:#555555;stroke-width:0.8;\" x=\"147.816219\" xlink:href=\"#m648f1922e7\" y=\"241.58175\"/>\r\n      </g>\r\n     </g>\r\n     <g id=\"text_3\">\r\n      <!-- 500 -->\r\n      <g style=\"fill:#555555;\" transform=\"translate(138.272469 256.180187)scale(0.1 -0.1)\">\r\n       <use xlink:href=\"#DejaVuSans-53\"/>\r\n       <use x=\"63.623047\" xlink:href=\"#DejaVuSans-48\"/>\r\n       <use x=\"127.246094\" xlink:href=\"#DejaVuSans-48\"/>\r\n      </g>\r\n     </g>\r\n    </g>\r\n    <g id=\"xtick_4\">\r\n     <g id=\"line2d_7\">\r\n      <path clip-path=\"url(#pb125df28aa)\" d=\"M 185.995301 241.58175 \r\nL 185.995301 24.14175 \r\n\" style=\"fill:none;stroke:#ffffff;stroke-linecap:square;stroke-width:0.8;\"/>\r\n     </g>\r\n     <g id=\"line2d_8\">\r\n      <g>\r\n       <use style=\"fill:#555555;stroke:#555555;stroke-width:0.8;\" x=\"185.995301\" xlink:href=\"#m648f1922e7\" y=\"241.58175\"/>\r\n      </g>\r\n     </g>\r\n     <g id=\"text_4\">\r\n      <!-- 750 -->\r\n      <defs>\r\n       <path d=\"M 8.203125 72.90625 \r\nL 55.078125 72.90625 \r\nL 55.078125 68.703125 \r\nL 28.609375 0 \r\nL 18.3125 0 \r\nL 43.21875 64.59375 \r\nL 8.203125 64.59375 \r\nz\r\n\" id=\"DejaVuSans-55\"/>\r\n      </defs>\r\n      <g style=\"fill:#555555;\" transform=\"translate(176.451551 256.180187)scale(0.1 -0.1)\">\r\n       <use xlink:href=\"#DejaVuSans-55\"/>\r\n       <use x=\"63.623047\" xlink:href=\"#DejaVuSans-53\"/>\r\n       <use x=\"127.246094\" xlink:href=\"#DejaVuSans-48\"/>\r\n      </g>\r\n     </g>\r\n    </g>\r\n    <g id=\"xtick_5\">\r\n     <g id=\"line2d_9\">\r\n      <path clip-path=\"url(#pb125df28aa)\" d=\"M 224.174382 241.58175 \r\nL 224.174382 24.14175 \r\n\" style=\"fill:none;stroke:#ffffff;stroke-linecap:square;stroke-width:0.8;\"/>\r\n     </g>\r\n     <g id=\"line2d_10\">\r\n      <g>\r\n       <use style=\"fill:#555555;stroke:#555555;stroke-width:0.8;\" x=\"224.174382\" xlink:href=\"#m648f1922e7\" y=\"241.58175\"/>\r\n      </g>\r\n     </g>\r\n     <g id=\"text_5\">\r\n      <!-- 1000 -->\r\n      <defs>\r\n       <path d=\"M 12.40625 8.296875 \r\nL 28.515625 8.296875 \r\nL 28.515625 63.921875 \r\nL 10.984375 60.40625 \r\nL 10.984375 69.390625 \r\nL 28.421875 72.90625 \r\nL 38.28125 72.90625 \r\nL 38.28125 8.296875 \r\nL 54.390625 8.296875 \r\nL 54.390625 0 \r\nL 12.40625 0 \r\nz\r\n\" id=\"DejaVuSans-49\"/>\r\n      </defs>\r\n      <g style=\"fill:#555555;\" transform=\"translate(211.449382 256.180187)scale(0.1 -0.1)\">\r\n       <use xlink:href=\"#DejaVuSans-49\"/>\r\n       <use x=\"63.623047\" xlink:href=\"#DejaVuSans-48\"/>\r\n       <use x=\"127.246094\" xlink:href=\"#DejaVuSans-48\"/>\r\n       <use x=\"190.869141\" xlink:href=\"#DejaVuSans-48\"/>\r\n      </g>\r\n     </g>\r\n    </g>\r\n    <g id=\"xtick_6\">\r\n     <g id=\"line2d_11\">\r\n      <path clip-path=\"url(#pb125df28aa)\" d=\"M 262.353463 241.58175 \r\nL 262.353463 24.14175 \r\n\" style=\"fill:none;stroke:#ffffff;stroke-linecap:square;stroke-width:0.8;\"/>\r\n     </g>\r\n     <g id=\"line2d_12\">\r\n      <g>\r\n       <use style=\"fill:#555555;stroke:#555555;stroke-width:0.8;\" x=\"262.353463\" xlink:href=\"#m648f1922e7\" y=\"241.58175\"/>\r\n      </g>\r\n     </g>\r\n     <g id=\"text_6\">\r\n      <!-- 1250 -->\r\n      <g style=\"fill:#555555;\" transform=\"translate(249.628463 256.180187)scale(0.1 -0.1)\">\r\n       <use xlink:href=\"#DejaVuSans-49\"/>\r\n       <use x=\"63.623047\" xlink:href=\"#DejaVuSans-50\"/>\r\n       <use x=\"127.246094\" xlink:href=\"#DejaVuSans-53\"/>\r\n       <use x=\"190.869141\" xlink:href=\"#DejaVuSans-48\"/>\r\n      </g>\r\n     </g>\r\n    </g>\r\n    <g id=\"xtick_7\">\r\n     <g id=\"line2d_13\">\r\n      <path clip-path=\"url(#pb125df28aa)\" d=\"M 300.532545 241.58175 \r\nL 300.532545 24.14175 \r\n\" style=\"fill:none;stroke:#ffffff;stroke-linecap:square;stroke-width:0.8;\"/>\r\n     </g>\r\n     <g id=\"line2d_14\">\r\n      <g>\r\n       <use style=\"fill:#555555;stroke:#555555;stroke-width:0.8;\" x=\"300.532545\" xlink:href=\"#m648f1922e7\" y=\"241.58175\"/>\r\n      </g>\r\n     </g>\r\n     <g id=\"text_7\">\r\n      <!-- 1500 -->\r\n      <g style=\"fill:#555555;\" transform=\"translate(287.807545 256.180187)scale(0.1 -0.1)\">\r\n       <use xlink:href=\"#DejaVuSans-49\"/>\r\n       <use x=\"63.623047\" xlink:href=\"#DejaVuSans-53\"/>\r\n       <use x=\"127.246094\" xlink:href=\"#DejaVuSans-48\"/>\r\n       <use x=\"190.869141\" xlink:href=\"#DejaVuSans-48\"/>\r\n      </g>\r\n     </g>\r\n    </g>\r\n    <g id=\"xtick_8\">\r\n     <g id=\"line2d_15\">\r\n      <path clip-path=\"url(#pb125df28aa)\" d=\"M 338.711626 241.58175 \r\nL 338.711626 24.14175 \r\n\" style=\"fill:none;stroke:#ffffff;stroke-linecap:square;stroke-width:0.8;\"/>\r\n     </g>\r\n     <g id=\"line2d_16\">\r\n      <g>\r\n       <use style=\"fill:#555555;stroke:#555555;stroke-width:0.8;\" x=\"338.711626\" xlink:href=\"#m648f1922e7\" y=\"241.58175\"/>\r\n      </g>\r\n     </g>\r\n     <g id=\"text_8\">\r\n      <!-- 1750 -->\r\n      <g style=\"fill:#555555;\" transform=\"translate(325.986626 256.180187)scale(0.1 -0.1)\">\r\n       <use xlink:href=\"#DejaVuSans-49\"/>\r\n       <use x=\"63.623047\" xlink:href=\"#DejaVuSans-55\"/>\r\n       <use x=\"127.246094\" xlink:href=\"#DejaVuSans-53\"/>\r\n       <use x=\"190.869141\" xlink:href=\"#DejaVuSans-48\"/>\r\n      </g>\r\n     </g>\r\n    </g>\r\n    <g id=\"xtick_9\">\r\n     <g id=\"line2d_17\">\r\n      <path clip-path=\"url(#pb125df28aa)\" d=\"M 376.890707 241.58175 \r\nL 376.890707 24.14175 \r\n\" style=\"fill:none;stroke:#ffffff;stroke-linecap:square;stroke-width:0.8;\"/>\r\n     </g>\r\n     <g id=\"line2d_18\">\r\n      <g>\r\n       <use style=\"fill:#555555;stroke:#555555;stroke-width:0.8;\" x=\"376.890707\" xlink:href=\"#m648f1922e7\" y=\"241.58175\"/>\r\n      </g>\r\n     </g>\r\n     <g id=\"text_9\">\r\n      <!-- 2000 -->\r\n      <g style=\"fill:#555555;\" transform=\"translate(364.165707 256.180187)scale(0.1 -0.1)\">\r\n       <use xlink:href=\"#DejaVuSans-50\"/>\r\n       <use x=\"63.623047\" xlink:href=\"#DejaVuSans-48\"/>\r\n       <use x=\"127.246094\" xlink:href=\"#DejaVuSans-48\"/>\r\n       <use x=\"190.869141\" xlink:href=\"#DejaVuSans-48\"/>\r\n      </g>\r\n     </g>\r\n    </g>\r\n   </g>\r\n   <g id=\"matplotlib.axis_2\">\r\n    <g id=\"ytick_1\">\r\n     <g id=\"line2d_19\">\r\n      <path clip-path=\"url(#pb125df28aa)\" d=\"M 56.239875 241.58175 \r\nL 391.039875 241.58175 \r\n\" style=\"fill:none;stroke:#ffffff;stroke-linecap:square;stroke-width:0.8;\"/>\r\n     </g>\r\n     <g id=\"line2d_20\">\r\n      <defs>\r\n       <path d=\"M 0 0 \r\nL -3.5 0 \r\n\" id=\"mf5126e6e6f\" style=\"stroke:#555555;stroke-width:0.8;\"/>\r\n      </defs>\r\n      <g>\r\n       <use style=\"fill:#555555;stroke:#555555;stroke-width:0.8;\" x=\"56.239875\" xlink:href=\"#mf5126e6e6f\" y=\"241.58175\"/>\r\n      </g>\r\n     </g>\r\n     <g id=\"text_10\">\r\n      <!-- 0.0 -->\r\n      <defs>\r\n       <path d=\"M 10.6875 12.40625 \r\nL 21 12.40625 \r\nL 21 0 \r\nL 10.6875 0 \r\nz\r\n\" id=\"DejaVuSans-46\"/>\r\n      </defs>\r\n      <g style=\"fill:#555555;\" transform=\"translate(33.33675 245.380969)scale(0.1 -0.1)\">\r\n       <use xlink:href=\"#DejaVuSans-48\"/>\r\n       <use x=\"63.623047\" xlink:href=\"#DejaVuSans-46\"/>\r\n       <use x=\"95.410156\" xlink:href=\"#DejaVuSans-48\"/>\r\n      </g>\r\n     </g>\r\n    </g>\r\n    <g id=\"ytick_2\">\r\n     <g id=\"line2d_21\">\r\n      <path clip-path=\"url(#pb125df28aa)\" d=\"M 56.239875 198.09375 \r\nL 391.039875 198.09375 \r\n\" style=\"fill:none;stroke:#ffffff;stroke-linecap:square;stroke-width:0.8;\"/>\r\n     </g>\r\n     <g id=\"line2d_22\">\r\n      <g>\r\n       <use style=\"fill:#555555;stroke:#555555;stroke-width:0.8;\" x=\"56.239875\" xlink:href=\"#mf5126e6e6f\" y=\"198.09375\"/>\r\n      </g>\r\n     </g>\r\n     <g id=\"text_11\">\r\n      <!-- 0.2 -->\r\n      <g style=\"fill:#555555;\" transform=\"translate(33.33675 201.892969)scale(0.1 -0.1)\">\r\n       <use xlink:href=\"#DejaVuSans-48\"/>\r\n       <use x=\"63.623047\" xlink:href=\"#DejaVuSans-46\"/>\r\n       <use x=\"95.410156\" xlink:href=\"#DejaVuSans-50\"/>\r\n      </g>\r\n     </g>\r\n    </g>\r\n    <g id=\"ytick_3\">\r\n     <g id=\"line2d_23\">\r\n      <path clip-path=\"url(#pb125df28aa)\" d=\"M 56.239875 154.60575 \r\nL 391.039875 154.60575 \r\n\" style=\"fill:none;stroke:#ffffff;stroke-linecap:square;stroke-width:0.8;\"/>\r\n     </g>\r\n     <g id=\"line2d_24\">\r\n      <g>\r\n       <use style=\"fill:#555555;stroke:#555555;stroke-width:0.8;\" x=\"56.239875\" xlink:href=\"#mf5126e6e6f\" y=\"154.60575\"/>\r\n      </g>\r\n     </g>\r\n     <g id=\"text_12\">\r\n      <!-- 0.4 -->\r\n      <defs>\r\n       <path d=\"M 37.796875 64.3125 \r\nL 12.890625 25.390625 \r\nL 37.796875 25.390625 \r\nz\r\nM 35.203125 72.90625 \r\nL 47.609375 72.90625 \r\nL 47.609375 25.390625 \r\nL 58.015625 25.390625 \r\nL 58.015625 17.1875 \r\nL 47.609375 17.1875 \r\nL 47.609375 0 \r\nL 37.796875 0 \r\nL 37.796875 17.1875 \r\nL 4.890625 17.1875 \r\nL 4.890625 26.703125 \r\nz\r\n\" id=\"DejaVuSans-52\"/>\r\n      </defs>\r\n      <g style=\"fill:#555555;\" transform=\"translate(33.33675 158.404969)scale(0.1 -0.1)\">\r\n       <use xlink:href=\"#DejaVuSans-48\"/>\r\n       <use x=\"63.623047\" xlink:href=\"#DejaVuSans-46\"/>\r\n       <use x=\"95.410156\" xlink:href=\"#DejaVuSans-52\"/>\r\n      </g>\r\n     </g>\r\n    </g>\r\n    <g id=\"ytick_4\">\r\n     <g id=\"line2d_25\">\r\n      <path clip-path=\"url(#pb125df28aa)\" d=\"M 56.239875 111.11775 \r\nL 391.039875 111.11775 \r\n\" style=\"fill:none;stroke:#ffffff;stroke-linecap:square;stroke-width:0.8;\"/>\r\n     </g>\r\n     <g id=\"line2d_26\">\r\n      <g>\r\n       <use style=\"fill:#555555;stroke:#555555;stroke-width:0.8;\" x=\"56.239875\" xlink:href=\"#mf5126e6e6f\" y=\"111.11775\"/>\r\n      </g>\r\n     </g>\r\n     <g id=\"text_13\">\r\n      <!-- 0.6 -->\r\n      <defs>\r\n       <path d=\"M 33.015625 40.375 \r\nQ 26.375 40.375 22.484375 35.828125 \r\nQ 18.609375 31.296875 18.609375 23.390625 \r\nQ 18.609375 15.53125 22.484375 10.953125 \r\nQ 26.375 6.390625 33.015625 6.390625 \r\nQ 39.65625 6.390625 43.53125 10.953125 \r\nQ 47.40625 15.53125 47.40625 23.390625 \r\nQ 47.40625 31.296875 43.53125 35.828125 \r\nQ 39.65625 40.375 33.015625 40.375 \r\nz\r\nM 52.59375 71.296875 \r\nL 52.59375 62.3125 \r\nQ 48.875 64.0625 45.09375 64.984375 \r\nQ 41.3125 65.921875 37.59375 65.921875 \r\nQ 27.828125 65.921875 22.671875 59.328125 \r\nQ 17.53125 52.734375 16.796875 39.40625 \r\nQ 19.671875 43.65625 24.015625 45.921875 \r\nQ 28.375 48.1875 33.59375 48.1875 \r\nQ 44.578125 48.1875 50.953125 41.515625 \r\nQ 57.328125 34.859375 57.328125 23.390625 \r\nQ 57.328125 12.15625 50.6875 5.359375 \r\nQ 44.046875 -1.421875 33.015625 -1.421875 \r\nQ 20.359375 -1.421875 13.671875 8.265625 \r\nQ 6.984375 17.96875 6.984375 36.375 \r\nQ 6.984375 53.65625 15.1875 63.9375 \r\nQ 23.390625 74.21875 37.203125 74.21875 \r\nQ 40.921875 74.21875 44.703125 73.484375 \r\nQ 48.484375 72.75 52.59375 71.296875 \r\nz\r\n\" id=\"DejaVuSans-54\"/>\r\n      </defs>\r\n      <g style=\"fill:#555555;\" transform=\"translate(33.33675 114.916969)scale(0.1 -0.1)\">\r\n       <use xlink:href=\"#DejaVuSans-48\"/>\r\n       <use x=\"63.623047\" xlink:href=\"#DejaVuSans-46\"/>\r\n       <use x=\"95.410156\" xlink:href=\"#DejaVuSans-54\"/>\r\n      </g>\r\n     </g>\r\n    </g>\r\n    <g id=\"ytick_5\">\r\n     <g id=\"line2d_27\">\r\n      <path clip-path=\"url(#pb125df28aa)\" d=\"M 56.239875 67.62975 \r\nL 391.039875 67.62975 \r\n\" style=\"fill:none;stroke:#ffffff;stroke-linecap:square;stroke-width:0.8;\"/>\r\n     </g>\r\n     <g id=\"line2d_28\">\r\n      <g>\r\n       <use style=\"fill:#555555;stroke:#555555;stroke-width:0.8;\" x=\"56.239875\" xlink:href=\"#mf5126e6e6f\" y=\"67.62975\"/>\r\n      </g>\r\n     </g>\r\n     <g id=\"text_14\">\r\n      <!-- 0.8 -->\r\n      <defs>\r\n       <path d=\"M 31.78125 34.625 \r\nQ 24.75 34.625 20.71875 30.859375 \r\nQ 16.703125 27.09375 16.703125 20.515625 \r\nQ 16.703125 13.921875 20.71875 10.15625 \r\nQ 24.75 6.390625 31.78125 6.390625 \r\nQ 38.8125 6.390625 42.859375 10.171875 \r\nQ 46.921875 13.96875 46.921875 20.515625 \r\nQ 46.921875 27.09375 42.890625 30.859375 \r\nQ 38.875 34.625 31.78125 34.625 \r\nz\r\nM 21.921875 38.8125 \r\nQ 15.578125 40.375 12.03125 44.71875 \r\nQ 8.5 49.078125 8.5 55.328125 \r\nQ 8.5 64.0625 14.71875 69.140625 \r\nQ 20.953125 74.21875 31.78125 74.21875 \r\nQ 42.671875 74.21875 48.875 69.140625 \r\nQ 55.078125 64.0625 55.078125 55.328125 \r\nQ 55.078125 49.078125 51.53125 44.71875 \r\nQ 48 40.375 41.703125 38.8125 \r\nQ 48.828125 37.15625 52.796875 32.3125 \r\nQ 56.78125 27.484375 56.78125 20.515625 \r\nQ 56.78125 9.90625 50.3125 4.234375 \r\nQ 43.84375 -1.421875 31.78125 -1.421875 \r\nQ 19.734375 -1.421875 13.25 4.234375 \r\nQ 6.78125 9.90625 6.78125 20.515625 \r\nQ 6.78125 27.484375 10.78125 32.3125 \r\nQ 14.796875 37.15625 21.921875 38.8125 \r\nz\r\nM 18.3125 54.390625 \r\nQ 18.3125 48.734375 21.84375 45.5625 \r\nQ 25.390625 42.390625 31.78125 42.390625 \r\nQ 38.140625 42.390625 41.71875 45.5625 \r\nQ 45.3125 48.734375 45.3125 54.390625 \r\nQ 45.3125 60.0625 41.71875 63.234375 \r\nQ 38.140625 66.40625 31.78125 66.40625 \r\nQ 25.390625 66.40625 21.84375 63.234375 \r\nQ 18.3125 60.0625 18.3125 54.390625 \r\nz\r\n\" id=\"DejaVuSans-56\"/>\r\n      </defs>\r\n      <g style=\"fill:#555555;\" transform=\"translate(33.33675 71.428969)scale(0.1 -0.1)\">\r\n       <use xlink:href=\"#DejaVuSans-48\"/>\r\n       <use x=\"63.623047\" xlink:href=\"#DejaVuSans-46\"/>\r\n       <use x=\"95.410156\" xlink:href=\"#DejaVuSans-56\"/>\r\n      </g>\r\n     </g>\r\n    </g>\r\n    <g id=\"ytick_6\">\r\n     <g id=\"line2d_29\">\r\n      <path clip-path=\"url(#pb125df28aa)\" d=\"M 56.239875 24.14175 \r\nL 391.039875 24.14175 \r\n\" style=\"fill:none;stroke:#ffffff;stroke-linecap:square;stroke-width:0.8;\"/>\r\n     </g>\r\n     <g id=\"line2d_30\">\r\n      <g>\r\n       <use style=\"fill:#555555;stroke:#555555;stroke-width:0.8;\" x=\"56.239875\" xlink:href=\"#mf5126e6e6f\" y=\"24.14175\"/>\r\n      </g>\r\n     </g>\r\n     <g id=\"text_15\">\r\n      <!-- 1.0 -->\r\n      <g style=\"fill:#555555;\" transform=\"translate(33.33675 27.940969)scale(0.1 -0.1)\">\r\n       <use xlink:href=\"#DejaVuSans-49\"/>\r\n       <use x=\"63.623047\" xlink:href=\"#DejaVuSans-46\"/>\r\n       <use x=\"95.410156\" xlink:href=\"#DejaVuSans-48\"/>\r\n      </g>\r\n     </g>\r\n    </g>\r\n   </g>\r\n   <g id=\"line2d_31\">\r\n    <path clip-path=\"url(#pb125df28aa)\" d=\"M 71.458057 116.55375 \r\nL 74.512383 83.93775 \r\nL 77.56671 64.00575 \r\nL 80.621036 54.94575 \r\nL 83.675363 73.06575 \r\nL 86.729689 51.32175 \r\nL 89.784016 51.32175 \r\nL 92.838342 64.00575 \r\nL 95.892669 53.13375 \r\nL 98.946995 54.94575 \r\nL 102.001322 54.94575 \r\nL 105.055648 54.94575 \r\nL 108.109975 60.38175 \r\nL 111.164301 47.69775 \r\nL 114.218628 49.50975 \r\nL 117.272954 45.88575 \r\nL 120.327281 42.26175 \r\nL 123.381607 53.13375 \r\nL 126.435934 45.88575 \r\nL 129.49026 53.13375 \r\nL 132.544587 51.32175 \r\nL 135.598913 44.07375 \r\nL 138.65324 51.32175 \r\nL 141.707566 54.94575 \r\nL 144.761893 27.76575 \r\nL 147.816219 44.07375 \r\nL 150.870546 36.82575 \r\nL 153.924872 49.50975 \r\nL 156.979199 58.56975 \r\nL 160.033526 53.13375 \r\nL 163.087852 38.63775 \r\nL 166.142179 38.63775 \r\nL 169.196505 36.82575 \r\nL 172.250832 47.69775 \r\nL 175.305158 45.88575 \r\nL 178.359485 36.82575 \r\nL 181.413811 36.82575 \r\nL 184.468138 38.63775 \r\nL 187.522464 36.82575 \r\nL 190.576791 35.01375 \r\nL 193.631117 31.38975 \r\nL 196.685444 27.76575 \r\nL 199.73977 35.01375 \r\nL 202.794097 31.38975 \r\nL 205.848423 38.63775 \r\nL 208.90275 33.20175 \r\nL 211.957076 38.63775 \r\nL 215.011403 35.01375 \r\nL 218.065729 40.44975 \r\nL 221.120056 33.20175 \r\nL 224.174382 33.20175 \r\nL 227.228709 31.38975 \r\nL 230.283035 40.44975 \r\nL 233.337362 42.26175 \r\nL 236.391688 38.63775 \r\nL 239.446015 35.01375 \r\nL 242.500341 35.01375 \r\nL 245.554668 27.76575 \r\nL 248.608994 33.20175 \r\nL 251.663321 33.20175 \r\nL 254.717647 53.13375 \r\nL 257.771974 47.69775 \r\nL 260.8263 49.50975 \r\nL 263.880627 44.07375 \r\nL 266.934953 36.82575 \r\nL 269.98928 42.26175 \r\nL 273.043606 35.01375 \r\nL 276.097933 49.50975 \r\nL 279.152259 35.01375 \r\nL 282.206586 36.82575 \r\nL 285.260912 45.88575 \r\nL 288.315239 42.26175 \r\nL 291.369565 33.20175 \r\nL 294.423892 44.07375 \r\nL 297.478218 29.57775 \r\nL 300.532545 36.82575 \r\nL 303.586871 31.38975 \r\nL 306.641198 29.57775 \r\nL 309.695524 33.20175 \r\nL 312.749851 31.38975 \r\nL 315.804177 33.20175 \r\nL 318.858504 31.38975 \r\nL 321.91283 45.88575 \r\nL 324.967157 27.76575 \r\nL 328.021483 40.44975 \r\nL 331.07581 35.01375 \r\nL 334.130136 29.57775 \r\nL 336.115449 31.38975 \r\nL 339.169775 33.20175 \r\nL 342.224102 29.57775 \r\nL 345.278428 31.38975 \r\nL 348.332755 29.57775 \r\nL 351.387081 29.57775 \r\nL 354.441408 29.57775 \r\nL 357.495734 35.01375 \r\nL 360.550061 33.20175 \r\nL 363.604387 29.57775 \r\nL 366.658714 31.38975 \r\nL 369.71304 27.76575 \r\nL 372.767367 33.20175 \r\nL 375.821693 25.95375 \r\n\" style=\"fill:none;stroke:#e24a33;stroke-linecap:square;stroke-width:1.5;\"/>\r\n   </g>\r\n   <g id=\"line2d_32\">\r\n    <path clip-path=\"url(#pb125df28aa)\" d=\"M 71.458057 63.6222 \r\nL 74.512383 109.521094 \r\nL 77.56671 179.138692 \r\nL 80.621036 205.049202 \r\nL 83.675363 214.956324 \r\nL 86.729689 223.103589 \r\nL 89.784016 227.656253 \r\nL 92.838342 230.846287 \r\nL 95.892669 232.41645 \r\nL 98.946995 232.826931 \r\nL 102.001322 234.080359 \r\nL 105.055648 233.813774 \r\nL 108.109975 234.800044 \r\nL 111.164301 236.829626 \r\nL 114.218628 237.610128 \r\nL 117.272954 237.049693 \r\nL 120.327281 237.669132 \r\nL 123.381607 238.527857 \r\nL 126.435934 238.561964 \r\nL 129.49026 238.660595 \r\nL 132.544587 238.595584 \r\nL 135.598913 238.807148 \r\nL 138.65324 238.977084 \r\nL 141.707566 239.631682 \r\nL 144.761893 239.472446 \r\nL 147.816219 239.547874 \r\nL 150.870546 239.435801 \r\nL 153.924872 239.979035 \r\nL 156.979199 239.631649 \r\nL 160.033526 239.69018 \r\nL 163.087852 239.284421 \r\nL 166.142179 240.108189 \r\nL 169.196505 239.68803 \r\nL 172.250832 240.62542 \r\nL 175.305158 240.157174 \r\nL 178.359485 240.395804 \r\nL 181.413811 240.340043 \r\nL 184.468138 240.758298 \r\nL 187.522464 240.580682 \r\nL 190.576791 240.550606 \r\nL 193.631117 240.902903 \r\nL 196.685444 240.230012 \r\nL 199.73977 240.680264 \r\nL 202.794097 240.660738 \r\nL 205.848423 240.824001 \r\nL 208.90275 240.678875 \r\nL 211.957076 240.42062 \r\nL 215.011403 240.563739 \r\nL 218.065729 240.560669 \r\nL 221.120056 240.646 \r\nL 224.174382 240.429924 \r\nL 227.228709 241.053705 \r\nL 230.283035 240.864783 \r\nL 233.337362 241.038671 \r\nL 236.391688 241.010572 \r\nL 239.446015 240.935914 \r\nL 242.500341 240.819779 \r\nL 245.554668 240.471351 \r\nL 248.608994 241.019543 \r\nL 251.663321 240.845539 \r\nL 254.717647 240.830567 \r\nL 257.771974 241.115093 \r\nL 260.8263 240.889621 \r\nL 263.880627 241.076027 \r\nL 266.934953 241.002006 \r\nL 269.98928 240.930293 \r\nL 273.043606 240.804068 \r\nL 276.097933 241.189882 \r\nL 279.152259 241.230144 \r\nL 282.206586 241.140312 \r\nL 285.260912 240.845516 \r\nL 288.315239 240.986588 \r\nL 291.369565 241.148154 \r\nL 294.423892 241.000534 \r\nL 297.478218 241.174468 \r\nL 300.532545 241.129869 \r\nL 303.586871 241.182651 \r\nL 306.641198 241.181017 \r\nL 309.695524 241.008046 \r\nL 312.749851 240.981595 \r\nL 315.804177 240.916767 \r\nL 318.858504 241.187485 \r\nL 321.91283 241.202316 \r\nL 324.967157 241.118026 \r\nL 328.021483 240.950439 \r\nL 331.07581 241.248412 \r\nL 334.130136 241.191752 \r\nL 336.115449 193.614225 \r\nL 339.169775 192.977703 \r\nL 342.224102 227.063001 \r\nL 345.278428 234.494894 \r\nL 348.332755 235.655102 \r\nL 351.387081 235.674896 \r\nL 354.441408 237.700036 \r\nL 357.495734 237.441306 \r\nL 360.550061 236.529345 \r\nL 363.604387 237.640845 \r\nL 366.658714 239.007154 \r\nL 369.71304 238.919324 \r\nL 372.767367 239.167337 \r\nL 375.821693 238.870271 \r\n\" style=\"fill:none;stroke:#348abd;stroke-linecap:square;stroke-width:1.5;\"/>\r\n   </g>\r\n   <g id=\"patch_3\">\r\n    <path d=\"M 56.239875 241.58175 \r\nL 56.239875 24.14175 \r\n\" style=\"fill:none;stroke:#ffffff;stroke-linecap:square;stroke-linejoin:miter;\"/>\r\n   </g>\r\n   <g id=\"patch_4\">\r\n    <path d=\"M 391.039875 241.58175 \r\nL 391.039875 24.14175 \r\n\" style=\"fill:none;stroke:#ffffff;stroke-linecap:square;stroke-linejoin:miter;\"/>\r\n   </g>\r\n   <g id=\"patch_5\">\r\n    <path d=\"M 56.239875 241.58175 \r\nL 391.039875 241.58175 \r\n\" style=\"fill:none;stroke:#ffffff;stroke-linecap:square;stroke-linejoin:miter;\"/>\r\n   </g>\r\n   <g id=\"patch_6\">\r\n    <path d=\"M 56.239875 24.14175 \r\nL 391.039875 24.14175 \r\n\" style=\"fill:none;stroke:#ffffff;stroke-linecap:square;stroke-linejoin:miter;\"/>\r\n   </g>\r\n   <g id=\"text_16\">\r\n    <!-- (Train Loss , Train Accuracy) VS Train Step - InceptionNetV3 -->\r\n    <defs>\r\n     <path d=\"M 31 75.875 \r\nQ 24.46875 64.65625 21.28125 53.65625 \r\nQ 18.109375 42.671875 18.109375 31.390625 \r\nQ 18.109375 20.125 21.3125 9.0625 \r\nQ 24.515625 -2 31 -13.1875 \r\nL 23.1875 -13.1875 \r\nQ 15.875 -1.703125 12.234375 9.375 \r\nQ 8.59375 20.453125 8.59375 31.390625 \r\nQ 8.59375 42.28125 12.203125 53.3125 \r\nQ 15.828125 64.359375 23.1875 75.875 \r\nz\r\n\" id=\"DejaVuSans-40\"/>\r\n     <path d=\"M -0.296875 72.90625 \r\nL 61.375 72.90625 \r\nL 61.375 64.59375 \r\nL 35.5 64.59375 \r\nL 35.5 0 \r\nL 25.59375 0 \r\nL 25.59375 64.59375 \r\nL -0.296875 64.59375 \r\nz\r\n\" id=\"DejaVuSans-84\"/>\r\n     <path d=\"M 41.109375 46.296875 \r\nQ 39.59375 47.171875 37.8125 47.578125 \r\nQ 36.03125 48 33.890625 48 \r\nQ 26.265625 48 22.1875 43.046875 \r\nQ 18.109375 38.09375 18.109375 28.8125 \r\nL 18.109375 0 \r\nL 9.078125 0 \r\nL 9.078125 54.6875 \r\nL 18.109375 54.6875 \r\nL 18.109375 46.1875 \r\nQ 20.953125 51.171875 25.484375 53.578125 \r\nQ 30.03125 56 36.53125 56 \r\nQ 37.453125 56 38.578125 55.875 \r\nQ 39.703125 55.765625 41.0625 55.515625 \r\nz\r\n\" id=\"DejaVuSans-114\"/>\r\n     <path d=\"M 34.28125 27.484375 \r\nQ 23.390625 27.484375 19.1875 25 \r\nQ 14.984375 22.515625 14.984375 16.5 \r\nQ 14.984375 11.71875 18.140625 8.90625 \r\nQ 21.296875 6.109375 26.703125 6.109375 \r\nQ 34.1875 6.109375 38.703125 11.40625 \r\nQ 43.21875 16.703125 43.21875 25.484375 \r\nL 43.21875 27.484375 \r\nz\r\nM 52.203125 31.203125 \r\nL 52.203125 0 \r\nL 43.21875 0 \r\nL 43.21875 8.296875 \r\nQ 40.140625 3.328125 35.546875 0.953125 \r\nQ 30.953125 -1.421875 24.3125 -1.421875 \r\nQ 15.921875 -1.421875 10.953125 3.296875 \r\nQ 6 8.015625 6 15.921875 \r\nQ 6 25.140625 12.171875 29.828125 \r\nQ 18.359375 34.515625 30.609375 34.515625 \r\nL 43.21875 34.515625 \r\nL 43.21875 35.40625 \r\nQ 43.21875 41.609375 39.140625 45 \r\nQ 35.0625 48.390625 27.6875 48.390625 \r\nQ 23 48.390625 18.546875 47.265625 \r\nQ 14.109375 46.140625 10.015625 43.890625 \r\nL 10.015625 52.203125 \r\nQ 14.9375 54.109375 19.578125 55.046875 \r\nQ 24.21875 56 28.609375 56 \r\nQ 40.484375 56 46.34375 49.84375 \r\nQ 52.203125 43.703125 52.203125 31.203125 \r\nz\r\n\" id=\"DejaVuSans-97\"/>\r\n     <path d=\"M 9.421875 54.6875 \r\nL 18.40625 54.6875 \r\nL 18.40625 0 \r\nL 9.421875 0 \r\nz\r\nM 9.421875 75.984375 \r\nL 18.40625 75.984375 \r\nL 18.40625 64.59375 \r\nL 9.421875 64.59375 \r\nz\r\n\" id=\"DejaVuSans-105\"/>\r\n     <path d=\"M 54.890625 33.015625 \r\nL 54.890625 0 \r\nL 45.90625 0 \r\nL 45.90625 32.71875 \r\nQ 45.90625 40.484375 42.875 44.328125 \r\nQ 39.84375 48.1875 33.796875 48.1875 \r\nQ 26.515625 48.1875 22.3125 43.546875 \r\nQ 18.109375 38.921875 18.109375 30.90625 \r\nL 18.109375 0 \r\nL 9.078125 0 \r\nL 9.078125 54.6875 \r\nL 18.109375 54.6875 \r\nL 18.109375 46.1875 \r\nQ 21.34375 51.125 25.703125 53.5625 \r\nQ 30.078125 56 35.796875 56 \r\nQ 45.21875 56 50.046875 50.171875 \r\nQ 54.890625 44.34375 54.890625 33.015625 \r\nz\r\n\" id=\"DejaVuSans-110\"/>\r\n     <path id=\"DejaVuSans-32\"/>\r\n     <path d=\"M 9.8125 72.90625 \r\nL 19.671875 72.90625 \r\nL 19.671875 8.296875 \r\nL 55.171875 8.296875 \r\nL 55.171875 0 \r\nL 9.8125 0 \r\nz\r\n\" id=\"DejaVuSans-76\"/>\r\n     <path d=\"M 30.609375 48.390625 \r\nQ 23.390625 48.390625 19.1875 42.75 \r\nQ 14.984375 37.109375 14.984375 27.296875 \r\nQ 14.984375 17.484375 19.15625 11.84375 \r\nQ 23.34375 6.203125 30.609375 6.203125 \r\nQ 37.796875 6.203125 41.984375 11.859375 \r\nQ 46.1875 17.53125 46.1875 27.296875 \r\nQ 46.1875 37.015625 41.984375 42.703125 \r\nQ 37.796875 48.390625 30.609375 48.390625 \r\nz\r\nM 30.609375 56 \r\nQ 42.328125 56 49.015625 48.375 \r\nQ 55.71875 40.765625 55.71875 27.296875 \r\nQ 55.71875 13.875 49.015625 6.21875 \r\nQ 42.328125 -1.421875 30.609375 -1.421875 \r\nQ 18.84375 -1.421875 12.171875 6.21875 \r\nQ 5.515625 13.875 5.515625 27.296875 \r\nQ 5.515625 40.765625 12.171875 48.375 \r\nQ 18.84375 56 30.609375 56 \r\nz\r\n\" id=\"DejaVuSans-111\"/>\r\n     <path d=\"M 44.28125 53.078125 \r\nL 44.28125 44.578125 \r\nQ 40.484375 46.53125 36.375 47.5 \r\nQ 32.28125 48.484375 27.875 48.484375 \r\nQ 21.1875 48.484375 17.84375 46.4375 \r\nQ 14.5 44.390625 14.5 40.28125 \r\nQ 14.5 37.15625 16.890625 35.375 \r\nQ 19.28125 33.59375 26.515625 31.984375 \r\nL 29.59375 31.296875 \r\nQ 39.15625 29.25 43.1875 25.515625 \r\nQ 47.21875 21.78125 47.21875 15.09375 \r\nQ 47.21875 7.46875 41.1875 3.015625 \r\nQ 35.15625 -1.421875 24.609375 -1.421875 \r\nQ 20.21875 -1.421875 15.453125 -0.5625 \r\nQ 10.6875 0.296875 5.421875 2 \r\nL 5.421875 11.28125 \r\nQ 10.40625 8.6875 15.234375 7.390625 \r\nQ 20.0625 6.109375 24.8125 6.109375 \r\nQ 31.15625 6.109375 34.5625 8.28125 \r\nQ 37.984375 10.453125 37.984375 14.40625 \r\nQ 37.984375 18.0625 35.515625 20.015625 \r\nQ 33.0625 21.96875 24.703125 23.78125 \r\nL 21.578125 24.515625 \r\nQ 13.234375 26.265625 9.515625 29.90625 \r\nQ 5.8125 33.546875 5.8125 39.890625 \r\nQ 5.8125 47.609375 11.28125 51.796875 \r\nQ 16.75 56 26.8125 56 \r\nQ 31.78125 56 36.171875 55.265625 \r\nQ 40.578125 54.546875 44.28125 53.078125 \r\nz\r\n\" id=\"DejaVuSans-115\"/>\r\n     <path d=\"M 11.71875 12.40625 \r\nL 22.015625 12.40625 \r\nL 22.015625 4 \r\nL 14.015625 -11.625 \r\nL 7.71875 -11.625 \r\nL 11.71875 4 \r\nz\r\n\" id=\"DejaVuSans-44\"/>\r\n     <path d=\"M 34.1875 63.1875 \r\nL 20.796875 26.90625 \r\nL 47.609375 26.90625 \r\nz\r\nM 28.609375 72.90625 \r\nL 39.796875 72.90625 \r\nL 67.578125 0 \r\nL 57.328125 0 \r\nL 50.6875 18.703125 \r\nL 17.828125 18.703125 \r\nL 11.1875 0 \r\nL 0.78125 0 \r\nz\r\n\" id=\"DejaVuSans-65\"/>\r\n     <path d=\"M 48.78125 52.59375 \r\nL 48.78125 44.1875 \r\nQ 44.96875 46.296875 41.140625 47.34375 \r\nQ 37.3125 48.390625 33.40625 48.390625 \r\nQ 24.65625 48.390625 19.8125 42.84375 \r\nQ 14.984375 37.3125 14.984375 27.296875 \r\nQ 14.984375 17.28125 19.8125 11.734375 \r\nQ 24.65625 6.203125 33.40625 6.203125 \r\nQ 37.3125 6.203125 41.140625 7.25 \r\nQ 44.96875 8.296875 48.78125 10.40625 \r\nL 48.78125 2.09375 \r\nQ 45.015625 0.34375 40.984375 -0.53125 \r\nQ 36.96875 -1.421875 32.421875 -1.421875 \r\nQ 20.0625 -1.421875 12.78125 6.34375 \r\nQ 5.515625 14.109375 5.515625 27.296875 \r\nQ 5.515625 40.671875 12.859375 48.328125 \r\nQ 20.21875 56 33.015625 56 \r\nQ 37.15625 56 41.109375 55.140625 \r\nQ 45.0625 54.296875 48.78125 52.59375 \r\nz\r\n\" id=\"DejaVuSans-99\"/>\r\n     <path d=\"M 8.5 21.578125 \r\nL 8.5 54.6875 \r\nL 17.484375 54.6875 \r\nL 17.484375 21.921875 \r\nQ 17.484375 14.15625 20.5 10.265625 \r\nQ 23.53125 6.390625 29.59375 6.390625 \r\nQ 36.859375 6.390625 41.078125 11.03125 \r\nQ 45.3125 15.671875 45.3125 23.6875 \r\nL 45.3125 54.6875 \r\nL 54.296875 54.6875 \r\nL 54.296875 0 \r\nL 45.3125 0 \r\nL 45.3125 8.40625 \r\nQ 42.046875 3.421875 37.71875 1 \r\nQ 33.40625 -1.421875 27.6875 -1.421875 \r\nQ 18.265625 -1.421875 13.375 4.4375 \r\nQ 8.5 10.296875 8.5 21.578125 \r\nz\r\nM 31.109375 56 \r\nz\r\n\" id=\"DejaVuSans-117\"/>\r\n     <path d=\"M 32.171875 -5.078125 \r\nQ 28.375 -14.84375 24.75 -17.8125 \r\nQ 21.140625 -20.796875 15.09375 -20.796875 \r\nL 7.90625 -20.796875 \r\nL 7.90625 -13.28125 \r\nL 13.1875 -13.28125 \r\nQ 16.890625 -13.28125 18.9375 -11.515625 \r\nQ 21 -9.765625 23.484375 -3.21875 \r\nL 25.09375 0.875 \r\nL 2.984375 54.6875 \r\nL 12.5 54.6875 \r\nL 29.59375 11.921875 \r\nL 46.6875 54.6875 \r\nL 56.203125 54.6875 \r\nz\r\n\" id=\"DejaVuSans-121\"/>\r\n     <path d=\"M 8.015625 75.875 \r\nL 15.828125 75.875 \r\nQ 23.140625 64.359375 26.78125 53.3125 \r\nQ 30.421875 42.28125 30.421875 31.390625 \r\nQ 30.421875 20.453125 26.78125 9.375 \r\nQ 23.140625 -1.703125 15.828125 -13.1875 \r\nL 8.015625 -13.1875 \r\nQ 14.5 -2 17.703125 9.0625 \r\nQ 20.90625 20.125 20.90625 31.390625 \r\nQ 20.90625 42.671875 17.703125 53.65625 \r\nQ 14.5 64.65625 8.015625 75.875 \r\nz\r\n\" id=\"DejaVuSans-41\"/>\r\n     <path d=\"M 28.609375 0 \r\nL 0.78125 72.90625 \r\nL 11.078125 72.90625 \r\nL 34.1875 11.53125 \r\nL 57.328125 72.90625 \r\nL 67.578125 72.90625 \r\nL 39.796875 0 \r\nz\r\n\" id=\"DejaVuSans-86\"/>\r\n     <path d=\"M 53.515625 70.515625 \r\nL 53.515625 60.890625 \r\nQ 47.90625 63.578125 42.921875 64.890625 \r\nQ 37.9375 66.21875 33.296875 66.21875 \r\nQ 25.25 66.21875 20.875 63.09375 \r\nQ 16.5 59.96875 16.5 54.203125 \r\nQ 16.5 49.359375 19.40625 46.890625 \r\nQ 22.3125 44.4375 30.421875 42.921875 \r\nL 36.375 41.703125 \r\nQ 47.40625 39.59375 52.65625 34.296875 \r\nQ 57.90625 29 57.90625 20.125 \r\nQ 57.90625 9.515625 50.796875 4.046875 \r\nQ 43.703125 -1.421875 29.984375 -1.421875 \r\nQ 24.8125 -1.421875 18.96875 -0.25 \r\nQ 13.140625 0.921875 6.890625 3.21875 \r\nL 6.890625 13.375 \r\nQ 12.890625 10.015625 18.65625 8.296875 \r\nQ 24.421875 6.59375 29.984375 6.59375 \r\nQ 38.421875 6.59375 43.015625 9.90625 \r\nQ 47.609375 13.234375 47.609375 19.390625 \r\nQ 47.609375 24.75 44.3125 27.78125 \r\nQ 41.015625 30.8125 33.5 32.328125 \r\nL 27.484375 33.5 \r\nQ 16.453125 35.6875 11.515625 40.375 \r\nQ 6.59375 45.0625 6.59375 53.421875 \r\nQ 6.59375 63.09375 13.40625 68.65625 \r\nQ 20.21875 74.21875 32.171875 74.21875 \r\nQ 37.3125 74.21875 42.625 73.28125 \r\nQ 47.953125 72.359375 53.515625 70.515625 \r\nz\r\n\" id=\"DejaVuSans-83\"/>\r\n     <path d=\"M 18.3125 70.21875 \r\nL 18.3125 54.6875 \r\nL 36.8125 54.6875 \r\nL 36.8125 47.703125 \r\nL 18.3125 47.703125 \r\nL 18.3125 18.015625 \r\nQ 18.3125 11.328125 20.140625 9.421875 \r\nQ 21.96875 7.515625 27.59375 7.515625 \r\nL 36.8125 7.515625 \r\nL 36.8125 0 \r\nL 27.59375 0 \r\nQ 17.1875 0 13.234375 3.875 \r\nQ 9.28125 7.765625 9.28125 18.015625 \r\nL 9.28125 47.703125 \r\nL 2.6875 47.703125 \r\nL 2.6875 54.6875 \r\nL 9.28125 54.6875 \r\nL 9.28125 70.21875 \r\nz\r\n\" id=\"DejaVuSans-116\"/>\r\n     <path d=\"M 56.203125 29.59375 \r\nL 56.203125 25.203125 \r\nL 14.890625 25.203125 \r\nQ 15.484375 15.921875 20.484375 11.0625 \r\nQ 25.484375 6.203125 34.421875 6.203125 \r\nQ 39.59375 6.203125 44.453125 7.46875 \r\nQ 49.3125 8.734375 54.109375 11.28125 \r\nL 54.109375 2.78125 \r\nQ 49.265625 0.734375 44.1875 -0.34375 \r\nQ 39.109375 -1.421875 33.890625 -1.421875 \r\nQ 20.796875 -1.421875 13.15625 6.1875 \r\nQ 5.515625 13.8125 5.515625 26.8125 \r\nQ 5.515625 40.234375 12.765625 48.109375 \r\nQ 20.015625 56 32.328125 56 \r\nQ 43.359375 56 49.78125 48.890625 \r\nQ 56.203125 41.796875 56.203125 29.59375 \r\nz\r\nM 47.21875 32.234375 \r\nQ 47.125 39.59375 43.09375 43.984375 \r\nQ 39.0625 48.390625 32.421875 48.390625 \r\nQ 24.90625 48.390625 20.390625 44.140625 \r\nQ 15.875 39.890625 15.1875 32.171875 \r\nz\r\n\" id=\"DejaVuSans-101\"/>\r\n     <path d=\"M 18.109375 8.203125 \r\nL 18.109375 -20.796875 \r\nL 9.078125 -20.796875 \r\nL 9.078125 54.6875 \r\nL 18.109375 54.6875 \r\nL 18.109375 46.390625 \r\nQ 20.953125 51.265625 25.265625 53.625 \r\nQ 29.59375 56 35.59375 56 \r\nQ 45.5625 56 51.78125 48.09375 \r\nQ 58.015625 40.1875 58.015625 27.296875 \r\nQ 58.015625 14.40625 51.78125 6.484375 \r\nQ 45.5625 -1.421875 35.59375 -1.421875 \r\nQ 29.59375 -1.421875 25.265625 0.953125 \r\nQ 20.953125 3.328125 18.109375 8.203125 \r\nz\r\nM 48.6875 27.296875 \r\nQ 48.6875 37.203125 44.609375 42.84375 \r\nQ 40.53125 48.484375 33.40625 48.484375 \r\nQ 26.265625 48.484375 22.1875 42.84375 \r\nQ 18.109375 37.203125 18.109375 27.296875 \r\nQ 18.109375 17.390625 22.1875 11.75 \r\nQ 26.265625 6.109375 33.40625 6.109375 \r\nQ 40.53125 6.109375 44.609375 11.75 \r\nQ 48.6875 17.390625 48.6875 27.296875 \r\nz\r\n\" id=\"DejaVuSans-112\"/>\r\n     <path d=\"M 4.890625 31.390625 \r\nL 31.203125 31.390625 \r\nL 31.203125 23.390625 \r\nL 4.890625 23.390625 \r\nz\r\n\" id=\"DejaVuSans-45\"/>\r\n     <path d=\"M 9.8125 72.90625 \r\nL 19.671875 72.90625 \r\nL 19.671875 0 \r\nL 9.8125 0 \r\nz\r\n\" id=\"DejaVuSans-73\"/>\r\n     <path d=\"M 9.8125 72.90625 \r\nL 23.09375 72.90625 \r\nL 55.421875 11.921875 \r\nL 55.421875 72.90625 \r\nL 64.984375 72.90625 \r\nL 64.984375 0 \r\nL 51.703125 0 \r\nL 19.390625 60.984375 \r\nL 19.390625 0 \r\nL 9.8125 0 \r\nz\r\n\" id=\"DejaVuSans-78\"/>\r\n     <path d=\"M 40.578125 39.3125 \r\nQ 47.65625 37.796875 51.625 33 \r\nQ 55.609375 28.21875 55.609375 21.1875 \r\nQ 55.609375 10.40625 48.1875 4.484375 \r\nQ 40.765625 -1.421875 27.09375 -1.421875 \r\nQ 22.515625 -1.421875 17.65625 -0.515625 \r\nQ 12.796875 0.390625 7.625 2.203125 \r\nL 7.625 11.71875 \r\nQ 11.71875 9.328125 16.59375 8.109375 \r\nQ 21.484375 6.890625 26.8125 6.890625 \r\nQ 36.078125 6.890625 40.9375 10.546875 \r\nQ 45.796875 14.203125 45.796875 21.1875 \r\nQ 45.796875 27.640625 41.28125 31.265625 \r\nQ 36.765625 34.90625 28.71875 34.90625 \r\nL 20.21875 34.90625 \r\nL 20.21875 43.015625 \r\nL 29.109375 43.015625 \r\nQ 36.375 43.015625 40.234375 45.921875 \r\nQ 44.09375 48.828125 44.09375 54.296875 \r\nQ 44.09375 59.90625 40.109375 62.90625 \r\nQ 36.140625 65.921875 28.71875 65.921875 \r\nQ 24.65625 65.921875 20.015625 65.03125 \r\nQ 15.375 64.15625 9.8125 62.3125 \r\nL 9.8125 71.09375 \r\nQ 15.4375 72.65625 20.34375 73.4375 \r\nQ 25.25 74.21875 29.59375 74.21875 \r\nQ 40.828125 74.21875 47.359375 69.109375 \r\nQ 53.90625 64.015625 53.90625 55.328125 \r\nQ 53.90625 49.265625 50.4375 45.09375 \r\nQ 46.96875 40.921875 40.578125 39.3125 \r\nz\r\n\" id=\"DejaVuSans-51\"/>\r\n    </defs>\r\n    <g transform=\"translate(7.2 18.14175)scale(0.144 -0.144)\">\r\n     <use xlink:href=\"#DejaVuSans-40\"/>\r\n     <use x=\"39.013672\" xlink:href=\"#DejaVuSans-84\"/>\r\n     <use x=\"99.878906\" xlink:href=\"#DejaVuSans-114\"/>\r\n     <use x=\"140.992188\" xlink:href=\"#DejaVuSans-97\"/>\r\n     <use x=\"202.271484\" xlink:href=\"#DejaVuSans-105\"/>\r\n     <use x=\"230.054688\" xlink:href=\"#DejaVuSans-110\"/>\r\n     <use x=\"293.433594\" xlink:href=\"#DejaVuSans-32\"/>\r\n     <use x=\"325.220703\" xlink:href=\"#DejaVuSans-76\"/>\r\n     <use x=\"380.917969\" xlink:href=\"#DejaVuSans-111\"/>\r\n     <use x=\"442.099609\" xlink:href=\"#DejaVuSans-115\"/>\r\n     <use x=\"494.199219\" xlink:href=\"#DejaVuSans-115\"/>\r\n     <use x=\"546.298828\" xlink:href=\"#DejaVuSans-32\"/>\r\n     <use x=\"578.085938\" xlink:href=\"#DejaVuSans-44\"/>\r\n     <use x=\"609.873047\" xlink:href=\"#DejaVuSans-32\"/>\r\n     <use x=\"641.660156\" xlink:href=\"#DejaVuSans-84\"/>\r\n     <use x=\"702.525391\" xlink:href=\"#DejaVuSans-114\"/>\r\n     <use x=\"743.638672\" xlink:href=\"#DejaVuSans-97\"/>\r\n     <use x=\"804.917969\" xlink:href=\"#DejaVuSans-105\"/>\r\n     <use x=\"832.701172\" xlink:href=\"#DejaVuSans-110\"/>\r\n     <use x=\"896.080078\" xlink:href=\"#DejaVuSans-32\"/>\r\n     <use x=\"927.867188\" xlink:href=\"#DejaVuSans-65\"/>\r\n     <use x=\"996.259766\" xlink:href=\"#DejaVuSans-99\"/>\r\n     <use x=\"1051.240234\" xlink:href=\"#DejaVuSans-99\"/>\r\n     <use x=\"1106.220703\" xlink:href=\"#DejaVuSans-117\"/>\r\n     <use x=\"1169.599609\" xlink:href=\"#DejaVuSans-114\"/>\r\n     <use x=\"1210.712891\" xlink:href=\"#DejaVuSans-97\"/>\r\n     <use x=\"1271.992188\" xlink:href=\"#DejaVuSans-99\"/>\r\n     <use x=\"1326.972656\" xlink:href=\"#DejaVuSans-121\"/>\r\n     <use x=\"1386.152344\" xlink:href=\"#DejaVuSans-41\"/>\r\n     <use x=\"1425.166016\" xlink:href=\"#DejaVuSans-32\"/>\r\n     <use x=\"1456.953125\" xlink:href=\"#DejaVuSans-86\"/>\r\n     <use x=\"1525.361328\" xlink:href=\"#DejaVuSans-83\"/>\r\n     <use x=\"1588.837891\" xlink:href=\"#DejaVuSans-32\"/>\r\n     <use x=\"1620.625\" xlink:href=\"#DejaVuSans-84\"/>\r\n     <use x=\"1681.490234\" xlink:href=\"#DejaVuSans-114\"/>\r\n     <use x=\"1722.603516\" xlink:href=\"#DejaVuSans-97\"/>\r\n     <use x=\"1783.882812\" xlink:href=\"#DejaVuSans-105\"/>\r\n     <use x=\"1811.666016\" xlink:href=\"#DejaVuSans-110\"/>\r\n     <use x=\"1875.044922\" xlink:href=\"#DejaVuSans-32\"/>\r\n     <use x=\"1906.832031\" xlink:href=\"#DejaVuSans-83\"/>\r\n     <use x=\"1970.308594\" xlink:href=\"#DejaVuSans-116\"/>\r\n     <use x=\"2009.517578\" xlink:href=\"#DejaVuSans-101\"/>\r\n     <use x=\"2071.041016\" xlink:href=\"#DejaVuSans-112\"/>\r\n     <use x=\"2134.517578\" xlink:href=\"#DejaVuSans-32\"/>\r\n     <use x=\"2166.304688\" xlink:href=\"#DejaVuSans-45\"/>\r\n     <use x=\"2202.388672\" xlink:href=\"#DejaVuSans-32\"/>\r\n     <use x=\"2234.175781\" xlink:href=\"#DejaVuSans-73\"/>\r\n     <use x=\"2263.667969\" xlink:href=\"#DejaVuSans-110\"/>\r\n     <use x=\"2327.046875\" xlink:href=\"#DejaVuSans-99\"/>\r\n     <use x=\"2382.027344\" xlink:href=\"#DejaVuSans-101\"/>\r\n     <use x=\"2443.550781\" xlink:href=\"#DejaVuSans-112\"/>\r\n     <use x=\"2507.027344\" xlink:href=\"#DejaVuSans-116\"/>\r\n     <use x=\"2546.236328\" xlink:href=\"#DejaVuSans-105\"/>\r\n     <use x=\"2574.019531\" xlink:href=\"#DejaVuSans-111\"/>\r\n     <use x=\"2635.201172\" xlink:href=\"#DejaVuSans-110\"/>\r\n     <use x=\"2698.580078\" xlink:href=\"#DejaVuSans-78\"/>\r\n     <use x=\"2773.384766\" xlink:href=\"#DejaVuSans-101\"/>\r\n     <use x=\"2834.908203\" xlink:href=\"#DejaVuSans-116\"/>\r\n     <use x=\"2874.117188\" xlink:href=\"#DejaVuSans-86\"/>\r\n     <use x=\"2942.525391\" xlink:href=\"#DejaVuSans-51\"/>\r\n    </g>\r\n   </g>\r\n   <g id=\"legend_1\">\r\n    <g id=\"patch_7\">\r\n     <path d=\"M 280.468 149.039875 \r\nL 384.039875 149.039875 \r\nQ 386.039875 149.039875 386.039875 147.039875 \r\nL 386.039875 118.683625 \r\nQ 386.039875 116.683625 384.039875 116.683625 \r\nL 280.468 116.683625 \r\nQ 278.468 116.683625 278.468 118.683625 \r\nL 278.468 147.039875 \r\nQ 278.468 149.039875 280.468 149.039875 \r\nz\r\n\" style=\"fill:#e5e5e5;opacity:0.8;stroke:#cccccc;stroke-linejoin:miter;stroke-width:0.5;\"/>\r\n    </g>\r\n    <g id=\"line2d_33\">\r\n     <path d=\"M 282.468 124.782062 \r\nL 302.468 124.782062 \r\n\" style=\"fill:none;stroke:#e24a33;stroke-linecap:square;stroke-width:1.5;\"/>\r\n    </g>\r\n    <g id=\"line2d_34\"/>\r\n    <g id=\"text_17\">\r\n     <!-- train accuracy -->\r\n     <g transform=\"translate(310.468 128.282062)scale(0.1 -0.1)\">\r\n      <use xlink:href=\"#DejaVuSans-116\"/>\r\n      <use x=\"39.208984\" xlink:href=\"#DejaVuSans-114\"/>\r\n      <use x=\"80.322266\" xlink:href=\"#DejaVuSans-97\"/>\r\n      <use x=\"141.601562\" xlink:href=\"#DejaVuSans-105\"/>\r\n      <use x=\"169.384766\" xlink:href=\"#DejaVuSans-110\"/>\r\n      <use x=\"232.763672\" xlink:href=\"#DejaVuSans-32\"/>\r\n      <use x=\"264.550781\" xlink:href=\"#DejaVuSans-97\"/>\r\n      <use x=\"325.830078\" xlink:href=\"#DejaVuSans-99\"/>\r\n      <use x=\"380.810547\" xlink:href=\"#DejaVuSans-99\"/>\r\n      <use x=\"435.791016\" xlink:href=\"#DejaVuSans-117\"/>\r\n      <use x=\"499.169922\" xlink:href=\"#DejaVuSans-114\"/>\r\n      <use x=\"540.283203\" xlink:href=\"#DejaVuSans-97\"/>\r\n      <use x=\"601.5625\" xlink:href=\"#DejaVuSans-99\"/>\r\n      <use x=\"656.542969\" xlink:href=\"#DejaVuSans-121\"/>\r\n     </g>\r\n    </g>\r\n    <g id=\"line2d_35\">\r\n     <path d=\"M 282.468 139.460187 \r\nL 302.468 139.460187 \r\n\" style=\"fill:none;stroke:#348abd;stroke-linecap:square;stroke-width:1.5;\"/>\r\n    </g>\r\n    <g id=\"line2d_36\"/>\r\n    <g id=\"text_18\">\r\n     <!-- train loss -->\r\n     <defs>\r\n      <path d=\"M 9.421875 75.984375 \r\nL 18.40625 75.984375 \r\nL 18.40625 0 \r\nL 9.421875 0 \r\nz\r\n\" id=\"DejaVuSans-108\"/>\r\n     </defs>\r\n     <g transform=\"translate(310.468 142.960187)scale(0.1 -0.1)\">\r\n      <use xlink:href=\"#DejaVuSans-116\"/>\r\n      <use x=\"39.208984\" xlink:href=\"#DejaVuSans-114\"/>\r\n      <use x=\"80.322266\" xlink:href=\"#DejaVuSans-97\"/>\r\n      <use x=\"141.601562\" xlink:href=\"#DejaVuSans-105\"/>\r\n      <use x=\"169.384766\" xlink:href=\"#DejaVuSans-110\"/>\r\n      <use x=\"232.763672\" xlink:href=\"#DejaVuSans-32\"/>\r\n      <use x=\"264.550781\" xlink:href=\"#DejaVuSans-108\"/>\r\n      <use x=\"292.333984\" xlink:href=\"#DejaVuSans-111\"/>\r\n      <use x=\"353.515625\" xlink:href=\"#DejaVuSans-115\"/>\r\n      <use x=\"405.615234\" xlink:href=\"#DejaVuSans-115\"/>\r\n     </g>\r\n    </g>\r\n   </g>\r\n  </g>\r\n </g>\r\n <defs>\r\n  <clipPath id=\"pb125df28aa\">\r\n   <rect height=\"217.44\" width=\"334.8\" x=\"56.239875\" y=\"24.14175\"/>\r\n  </clipPath>\r\n </defs>\r\n</svg>\r\n",
      "image/png": "[encoded data removed]"
     },
     "metadata": {}
    }
   ],
   "source": [
    "plt.style.use(\"ggplot\")\n",
    "plt.figure()\n",
    "plt.ylim(0, 1)\n",
    "#plt.plot(steps_xaxis, val_loss_yaxis, label = 'validation loss')\n",
    "plt.plot(steps_xaxis, accuracy_yaxis, label = 'train accuracy')\n",
    "plt.plot(steps_xaxis, train_loss_yaxis, label = 'train loss')\n",
    "#plt.plot(steps_xaxis, val_accuracy_yaxis, label = 'validation accuracy')\n",
    "plt.legend()\n",
    "plt.title('(Train Loss , Train Accuracy) VS Train Step - InceptionNetV3')"
   ]
  },
  {
   "cell_type": "code",
   "execution_count": null,
   "metadata": {},
   "outputs": [],
   "source": []
  }
 ],
 "metadata": {
  "kernelspec": {
   "name": "python3",
   "display_name": "Python 3.8.6 64-bit",
   "metadata": {
    "interpreter": {
     "hash": "5bd12373e5d6177196c9c78a48a80ff66efba26779122770cab5c0b555a2ad2c"
    }
   }
  },
  "language_info": {
   "codemirror_mode": {
    "name": "ipython",
    "version": 3
   },
   "file_extension": ".py",
   "mimetype": "text/x-python",
   "name": "python",
   "nbconvert_exporter": "python",
   "pygments_lexer": "ipython3",
   "version": "3.8.6-final"
  }
 },
 "nbformat": 4,
 "nbformat_minor": 4
}